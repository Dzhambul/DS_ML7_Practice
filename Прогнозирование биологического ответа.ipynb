{
 "cells": [
  {
   "cell_type": "code",
   "execution_count": 2,
   "metadata": {},
   "outputs": [
    {
     "name": "stderr",
     "output_type": "stream",
     "text": [
      "C:\\Users\\Мария\\AppData\\Local\\Temp\\ipykernel_14772\\2150022218.py:15: MatplotlibDeprecationWarning: The seaborn styles shipped by Matplotlib are deprecated since 3.6, as they no longer correspond to the styles shipped by seaborn. However, they will remain available as 'seaborn-v0_8-<style>'. Alternatively, directly use the seaborn API instead.\n",
      "  plt.style.use('seaborn')\n"
     ]
    }
   ],
   "source": [
    "#импорт библиотек\n",
    "import numpy as np #для матричных вычислений\n",
    "import pandas as pd #для анализа и предобработки данных\n",
    "import matplotlib.pyplot as plt #для визуализации\n",
    "import seaborn as sns #для визуализации\n",
    "\n",
    "from sklearn import linear_model #линейные моделиё\n",
    "from sklearn import tree #деревья решений\n",
    "from sklearn import ensemble #ансамбли\n",
    "from sklearn import metrics #метрики\n",
    "from sklearn import preprocessing #предобработка\n",
    "from sklearn.model_selection import train_test_split #сплитование выборки\n",
    "\n",
    "%matplotlib inline\n",
    "plt.style.use('seaborn')"
   ]
  },
  {
   "cell_type": "code",
   "execution_count": 3,
   "metadata": {},
   "outputs": [
    {
     "data": {
      "text/html": [
       "<div>\n",
       "<style scoped>\n",
       "    .dataframe tbody tr th:only-of-type {\n",
       "        vertical-align: middle;\n",
       "    }\n",
       "\n",
       "    .dataframe tbody tr th {\n",
       "        vertical-align: top;\n",
       "    }\n",
       "\n",
       "    .dataframe thead th {\n",
       "        text-align: right;\n",
       "    }\n",
       "</style>\n",
       "<table border=\"1\" class=\"dataframe\">\n",
       "  <thead>\n",
       "    <tr style=\"text-align: right;\">\n",
       "      <th></th>\n",
       "      <th>Activity</th>\n",
       "      <th>D1</th>\n",
       "      <th>D2</th>\n",
       "      <th>D3</th>\n",
       "      <th>D4</th>\n",
       "      <th>D5</th>\n",
       "      <th>D6</th>\n",
       "      <th>D7</th>\n",
       "      <th>D8</th>\n",
       "      <th>D9</th>\n",
       "      <th>...</th>\n",
       "      <th>D1767</th>\n",
       "      <th>D1768</th>\n",
       "      <th>D1769</th>\n",
       "      <th>D1770</th>\n",
       "      <th>D1771</th>\n",
       "      <th>D1772</th>\n",
       "      <th>D1773</th>\n",
       "      <th>D1774</th>\n",
       "      <th>D1775</th>\n",
       "      <th>D1776</th>\n",
       "    </tr>\n",
       "  </thead>\n",
       "  <tbody>\n",
       "    <tr>\n",
       "      <th>0</th>\n",
       "      <td>1</td>\n",
       "      <td>0.000000</td>\n",
       "      <td>0.497009</td>\n",
       "      <td>0.10</td>\n",
       "      <td>0.0</td>\n",
       "      <td>0.132956</td>\n",
       "      <td>0.678031</td>\n",
       "      <td>0.273166</td>\n",
       "      <td>0.585445</td>\n",
       "      <td>0.743663</td>\n",
       "      <td>...</td>\n",
       "      <td>0</td>\n",
       "      <td>0</td>\n",
       "      <td>0</td>\n",
       "      <td>0</td>\n",
       "      <td>0</td>\n",
       "      <td>0</td>\n",
       "      <td>0</td>\n",
       "      <td>0</td>\n",
       "      <td>0</td>\n",
       "      <td>0</td>\n",
       "    </tr>\n",
       "    <tr>\n",
       "      <th>1</th>\n",
       "      <td>1</td>\n",
       "      <td>0.366667</td>\n",
       "      <td>0.606291</td>\n",
       "      <td>0.05</td>\n",
       "      <td>0.0</td>\n",
       "      <td>0.111209</td>\n",
       "      <td>0.803455</td>\n",
       "      <td>0.106105</td>\n",
       "      <td>0.411754</td>\n",
       "      <td>0.836582</td>\n",
       "      <td>...</td>\n",
       "      <td>1</td>\n",
       "      <td>1</td>\n",
       "      <td>1</td>\n",
       "      <td>1</td>\n",
       "      <td>0</td>\n",
       "      <td>1</td>\n",
       "      <td>0</td>\n",
       "      <td>0</td>\n",
       "      <td>1</td>\n",
       "      <td>0</td>\n",
       "    </tr>\n",
       "    <tr>\n",
       "      <th>2</th>\n",
       "      <td>1</td>\n",
       "      <td>0.033300</td>\n",
       "      <td>0.480124</td>\n",
       "      <td>0.00</td>\n",
       "      <td>0.0</td>\n",
       "      <td>0.209791</td>\n",
       "      <td>0.610350</td>\n",
       "      <td>0.356453</td>\n",
       "      <td>0.517720</td>\n",
       "      <td>0.679051</td>\n",
       "      <td>...</td>\n",
       "      <td>0</td>\n",
       "      <td>0</td>\n",
       "      <td>0</td>\n",
       "      <td>0</td>\n",
       "      <td>0</td>\n",
       "      <td>0</td>\n",
       "      <td>0</td>\n",
       "      <td>0</td>\n",
       "      <td>0</td>\n",
       "      <td>0</td>\n",
       "    </tr>\n",
       "    <tr>\n",
       "      <th>3</th>\n",
       "      <td>1</td>\n",
       "      <td>0.000000</td>\n",
       "      <td>0.538825</td>\n",
       "      <td>0.00</td>\n",
       "      <td>0.5</td>\n",
       "      <td>0.196344</td>\n",
       "      <td>0.724230</td>\n",
       "      <td>0.235606</td>\n",
       "      <td>0.288764</td>\n",
       "      <td>0.805110</td>\n",
       "      <td>...</td>\n",
       "      <td>0</td>\n",
       "      <td>0</td>\n",
       "      <td>0</td>\n",
       "      <td>0</td>\n",
       "      <td>0</td>\n",
       "      <td>0</td>\n",
       "      <td>0</td>\n",
       "      <td>0</td>\n",
       "      <td>0</td>\n",
       "      <td>0</td>\n",
       "    </tr>\n",
       "    <tr>\n",
       "      <th>4</th>\n",
       "      <td>0</td>\n",
       "      <td>0.100000</td>\n",
       "      <td>0.517794</td>\n",
       "      <td>0.00</td>\n",
       "      <td>0.0</td>\n",
       "      <td>0.494734</td>\n",
       "      <td>0.781422</td>\n",
       "      <td>0.154361</td>\n",
       "      <td>0.303809</td>\n",
       "      <td>0.812646</td>\n",
       "      <td>...</td>\n",
       "      <td>0</td>\n",
       "      <td>0</td>\n",
       "      <td>0</td>\n",
       "      <td>0</td>\n",
       "      <td>0</td>\n",
       "      <td>0</td>\n",
       "      <td>0</td>\n",
       "      <td>0</td>\n",
       "      <td>0</td>\n",
       "      <td>0</td>\n",
       "    </tr>\n",
       "  </tbody>\n",
       "</table>\n",
       "<p>5 rows × 1777 columns</p>\n",
       "</div>"
      ],
      "text/plain": [
       "   Activity        D1        D2    D3   D4        D5        D6        D7   \n",
       "0         1  0.000000  0.497009  0.10  0.0  0.132956  0.678031  0.273166  \\\n",
       "1         1  0.366667  0.606291  0.05  0.0  0.111209  0.803455  0.106105   \n",
       "2         1  0.033300  0.480124  0.00  0.0  0.209791  0.610350  0.356453   \n",
       "3         1  0.000000  0.538825  0.00  0.5  0.196344  0.724230  0.235606   \n",
       "4         0  0.100000  0.517794  0.00  0.0  0.494734  0.781422  0.154361   \n",
       "\n",
       "         D8        D9  ...  D1767  D1768  D1769  D1770  D1771  D1772  D1773   \n",
       "0  0.585445  0.743663  ...      0      0      0      0      0      0      0  \\\n",
       "1  0.411754  0.836582  ...      1      1      1      1      0      1      0   \n",
       "2  0.517720  0.679051  ...      0      0      0      0      0      0      0   \n",
       "3  0.288764  0.805110  ...      0      0      0      0      0      0      0   \n",
       "4  0.303809  0.812646  ...      0      0      0      0      0      0      0   \n",
       "\n",
       "   D1774  D1775  D1776  \n",
       "0      0      0      0  \n",
       "1      0      1      0  \n",
       "2      0      0      0  \n",
       "3      0      0      0  \n",
       "4      0      0      0  \n",
       "\n",
       "[5 rows x 1777 columns]"
      ]
     },
     "execution_count": 3,
     "metadata": {},
     "output_type": "execute_result"
    }
   ],
   "source": [
    "#Прочитаем данные\n",
    "data = pd.read_csv('data/_train_sem09.csv')\n",
    "data.head()"
   ]
  },
  {
   "cell_type": "code",
   "execution_count": 5,
   "metadata": {},
   "outputs": [],
   "source": [
    "X = data.drop(['Activity'], axis=1)\n",
    "y = data['Activity']"
   ]
  },
  {
   "cell_type": "code",
   "execution_count": 6,
   "metadata": {},
   "outputs": [],
   "source": [
    "X_train, X_test, y_train, y_test = train_test_split(X, y, stratify=y, random_state = 1, test_size = 0.2)"
   ]
  },
  {
   "cell_type": "code",
   "execution_count": 7,
   "metadata": {},
   "outputs": [
    {
     "name": "stdout",
     "output_type": "stream",
     "text": [
      "accuracy на тестовом наборе: 0.76\n",
      "f1_score на тестовом наборе: 0.78\n"
     ]
    }
   ],
   "source": [
    "#Создаем объект класса логистическая регрессия\n",
    "log_reg = linear_model.LogisticRegression(max_iter = 1000)\n",
    "#Обучаем модель\n",
    "log_reg.fit(X_train, y_train)\n",
    "#Выводим значения метрики \n",
    "print(\"accuracy на тестовом наборе: {:.2f}\".format(log_reg.score(X_test, y_test)))\n",
    "y_test_pred = log_reg.predict(X_test)\n",
    "print('f1_score на тестовом наборе: {:.2f}'.format(metrics.f1_score(y_test, y_test_pred)))"
   ]
  },
  {
   "cell_type": "code",
   "execution_count": 8,
   "metadata": {},
   "outputs": [
    {
     "name": "stdout",
     "output_type": "stream",
     "text": [
      "Train: 1.00\n",
      "Test: 0.81\n"
     ]
    }
   ],
   "source": [
    "#Создаем объект класса случайный лес\n",
    "rf = ensemble.RandomForestClassifier(random_state=42)\n",
    "\n",
    "#Обучаем модель\n",
    "rf.fit(X_train, y_train)\n",
    "#Выводим значения метрики \n",
    "y_train_pred = rf.predict(X_train)\n",
    "print('Train: {:.2f}'.format(metrics.f1_score(y_train, y_train_pred)))\n",
    "y_test_pred = rf.predict(X_test)\n",
    "print('Test: {:.2f}'.format(metrics.f1_score(y_test, y_test_pred)))"
   ]
  },
  {
   "attachments": {},
   "cell_type": "markdown",
   "metadata": {},
   "source": [
    "### Оптимизация гиперпараметров моделей"
   ]
  },
  {
   "cell_type": "code",
   "execution_count": 9,
   "metadata": {},
   "outputs": [
    {
     "name": "stdout",
     "output_type": "stream",
     "text": [
      "CPU times: total: 4.56 s\n",
      "Wall time: 31.8 s\n",
      "accuracy на тестовом наборе: 0.76\n",
      "f1_score на тестовом наборе: 0.78\n",
      "Наилучшие значения гиперпараметров: {'penalty': 'l2', 'solver': 'saga'}\n"
     ]
    },
    {
     "name": "stderr",
     "output_type": "stream",
     "text": [
      "c:\\Users\\Мария\\AppData\\Local\\Programs\\Python\\Python39\\lib\\site-packages\\sklearn\\linear_model\\_sag.py:350: ConvergenceWarning: The max_iter was reached which means the coef_ did not converge\n",
      "  warnings.warn(\n"
     ]
    }
   ],
   "source": [
    "#GridSearchCV\n",
    "from sklearn.model_selection import GridSearchCV\n",
    "#Логистическая регрессия\n",
    "\n",
    "param_grid = {'penalty': ['l2', 'none'] ,#тип регурялизации\n",
    "              'solver': ['lbfgs', 'saga'], #алгоритм оптимизации\n",
    "              }\n",
    "grid_search = GridSearchCV(\n",
    "    estimator=linear_model.LogisticRegression(\n",
    "        random_state=42, #генератор случайных чисел\n",
    "        max_iter=50 #количество итераций на сходимость\n",
    "    ), \n",
    "    param_grid=param_grid, \n",
    "    cv=5, \n",
    "    n_jobs = -1\n",
    ")  \n",
    "%time grid_search.fit(X_train, y_train) \n",
    "print(\"accuracy на тестовом наборе: {:.2f}\".format(grid_search.score(X_test, y_test)))\n",
    "y_test_pred = grid_search.predict(X_test)\n",
    "print('f1_score на тестовом наборе: {:.2f}'.format(metrics.f1_score(y_test, y_test_pred)))\n",
    "print(\"Наилучшие значения гиперпараметров: {}\".format(grid_search.best_params_))"
   ]
  },
  {
   "cell_type": "code",
   "execution_count": 16,
   "metadata": {},
   "outputs": [
    {
     "name": "stdout",
     "output_type": "stream",
     "text": [
      "CPU times: total: 4.44 s\n",
      "Wall time: 2min 34s\n",
      "f1_score на обучающем наборе: 0.93\n",
      "accuracy на тестовом наборе: 0.80\n",
      "f1_score на тестовом наборе: 0.82\n",
      "Наилучшие значения гиперпараметров: {'max_depth': 20, 'min_samples_leaf': 7, 'n_estimators': 130}\n"
     ]
    }
   ],
   "source": [
    "#Случайный лес\n",
    "param_grid_rf = {'n_estimators': list(range(100, 200, 30)),\n",
    "              'min_samples_leaf': [5, 7],\n",
    "              'max_depth': [10, 15, 20, 25]\n",
    "              }\n",
    "            \n",
    "grid_search_forest = GridSearchCV(\n",
    "    estimator=ensemble.RandomForestClassifier(random_state=42), \n",
    "    param_grid=param_grid_rf, \n",
    "    cv=5, \n",
    "    n_jobs = -1\n",
    ")  \n",
    "%time grid_search_forest.fit(X_train, y_train) \n",
    "y_train_pred = grid_search_forest.predict(X_train)\n",
    "print('f1_score на обучающем наборе: {:.2f}'.format(metrics.f1_score(y_train, y_train_pred)))\n",
    "print(\"accuracy на тестовом наборе: {:.2f}\".format(grid_search_forest.score(X_test, y_test)))\n",
    "y_test_pred = grid_search_forest.predict(X_test)\n",
    "print('f1_score на тестовом наборе: {:.2f}'.format(metrics.f1_score(y_test, y_test_pred)))\n",
    "print(\"Наилучшие значения гиперпараметров: {}\".format(grid_search_forest.best_params_))"
   ]
  },
  {
   "cell_type": "code",
   "execution_count": 15,
   "metadata": {},
   "outputs": [
    {
     "name": "stdout",
     "output_type": "stream",
     "text": [
      "CPU times: total: 0 ns\n",
      "Wall time: 0 ns\n"
     ]
    },
    {
     "name": "stderr",
     "output_type": "stream",
     "text": [
      "c:\\Users\\Мария\\AppData\\Local\\Programs\\Python\\Python39\\lib\\site-packages\\sklearn\\model_selection\\_search.py:305: UserWarning: The total space of parameters 4 is smaller than n_iter=50. Running 4 iterations. For exhaustive searches, use GridSearchCV.\n",
      "  warnings.warn(\n"
     ]
    },
    {
     "name": "stdout",
     "output_type": "stream",
     "text": [
      "accuracy на тестовом наборе: 0.76\n",
      "f1_score на тестовом наборе: 0.78\n",
      "Наилучшие значения гиперпараметров: {'solver': 'lbfgs', 'penalty': 'l2'}\n"
     ]
    }
   ],
   "source": [
    "#RandomizedSearchCV\n",
    "from sklearn.model_selection import RandomizedSearchCV\n",
    "\n",
    "#Пространство для подбора гиперпараметров  оставляем такое же как и для предыдущего метода\n",
    "param_random = {'penalty': ['l2', 'none'] ,#тип регурялизации\n",
    "              'solver': ['lbfgs', 'saga'], #алгоритм оптимизации\n",
    "              }\n",
    "            \n",
    "random_search = RandomizedSearchCV(\n",
    "    estimator=linear_model.LogisticRegression(random_state=42, max_iter=1000), \n",
    "    param_distributions=param_random, \n",
    "    cv=5, \n",
    "    n_iter = 50, \n",
    "    n_jobs = -1\n",
    ")  \n",
    "%time \n",
    "random_search.fit(X_train, y_train) \n",
    "print(\"accuracy на тестовом наборе: {:.2f}\".format(random_search.score(X_test, y_test)))\n",
    "y_test_pred = random_search.predict(X_test)\n",
    "print('f1_score на тестовом наборе: {:.2f}'.format(metrics.f1_score(y_test, y_test_pred)))\n",
    "print(\"Наилучшие значения гиперпараметров: {}\".format(random_search.best_params_))"
   ]
  },
  {
   "cell_type": "code",
   "execution_count": 17,
   "metadata": {},
   "outputs": [
    {
     "name": "stderr",
     "output_type": "stream",
     "text": [
      "c:\\Users\\Мария\\AppData\\Local\\Programs\\Python\\Python39\\lib\\site-packages\\sklearn\\model_selection\\_search.py:305: UserWarning: The total space of parameters 32 is smaller than n_iter=50. Running 32 iterations. For exhaustive searches, use GridSearchCV.\n",
      "  warnings.warn(\n"
     ]
    },
    {
     "name": "stdout",
     "output_type": "stream",
     "text": [
      "CPU times: total: 4.3 s\n",
      "Wall time: 2min 42s\n",
      "f1_score на обучающем наборе: 0.93\n",
      "accuracy на тестовом наборе: 0.80\n",
      "f1_score на тестовом наборе: 0.82\n",
      "Наилучшие значения гиперпараметров: {'n_estimators': 130, 'min_samples_leaf': 7, 'max_depth': 20}\n"
     ]
    }
   ],
   "source": [
    "#Случайный лес\n",
    "param_random_rf = {'n_estimators': list(range(100, 200, 30)),\n",
    "              'min_samples_leaf': [5, 7],\n",
    "              'max_depth': [10, 15, 20, 25]\n",
    "              }\n",
    "            \n",
    "random_search_forest = RandomizedSearchCV(\n",
    "    estimator=ensemble.RandomForestClassifier(random_state=42), \n",
    "    param_distributions=param_random_rf, \n",
    "    cv=5,\n",
    "    n_iter = 50, \n",
    "    n_jobs = -1\n",
    ")  \n",
    "%time random_search_forest.fit(X_train, y_train) \n",
    "y_train_pred = random_search_forest.predict(X_train)\n",
    "print('f1_score на обучающем наборе: {:.2f}'.format(metrics.f1_score(y_train, y_train_pred)))\n",
    "print(\"accuracy на тестовом наборе: {:.2f}\".format(random_search_forest.score(X_test, y_test)))\n",
    "y_test_pred = random_search_forest.predict(X_test)\n",
    "print('f1_score на тестовом наборе: {:.2f}'.format(metrics.f1_score(y_test, y_test_pred)))\n",
    "print(\"Наилучшие значения гиперпараметров: {}\".format(random_search_forest.best_params_))"
   ]
  },
  {
   "cell_type": "code",
   "execution_count": 18,
   "metadata": {},
   "outputs": [],
   "source": [
    "#hyperopt\n",
    "\n",
    "#делаем импорт библиотек\n",
    "from sklearn.model_selection import cross_val_score\n",
    "import hyperopt\n",
    "from hyperopt import hp, fmin, tpe, Trials\n",
    "# fmin - основная функция, она будет минимизировать наш функционал\n",
    "# tpe - алгоритм оптимизации\n",
    "# hp - включает набор методов для объявления пространства поиска гиперпараметров\n",
    "# trails - используется для логирования результатов"
   ]
  },
  {
   "cell_type": "code",
   "execution_count": 21,
   "metadata": {},
   "outputs": [],
   "source": [
    "# зададим пространство поиска гиперпараметров для случайного леса\n",
    "space={'n_estimators': hp.quniform('n_estimators', 100, 300, 10),\n",
    "       'max_depth' : hp.quniform('max_depth', 15, 40, 1),\n",
    "       'min_samples_leaf': hp.quniform('min_samples_leaf', 3, 7, 1)\n",
    "      }"
   ]
  },
  {
   "cell_type": "code",
   "execution_count": 19,
   "metadata": {},
   "outputs": [],
   "source": [
    "# зафксируем random_state\n",
    "random_state = 42\n",
    "def hyperopt_rf(params, cv=5, X=X_train, y=y_train, random_state=random_state):\n",
    "    # функция получает комбинацию гиперпараметров в \"params\"\n",
    "    params = {'n_estimators': int(params['n_estimators']), \n",
    "              'max_depth': int(params['max_depth']), \n",
    "             'min_samples_leaf': int(params['min_samples_leaf'])\n",
    "              }\n",
    "  \n",
    "    # используем эту комбинацию для построения модели\n",
    "    model = ensemble.RandomForestClassifier(**params, random_state=random_state)\n",
    "\n",
    "    # обучаем модель\n",
    "    model.fit(X, y)\n",
    "    score = metrics.f1_score(y, model.predict(X))\n",
    "\n",
    "    # метрику необходимо минимизировать, поэтому ставим знак минус\n",
    "    return -score"
   ]
  },
  {
   "cell_type": "code",
   "execution_count": 22,
   "metadata": {},
   "outputs": [
    {
     "name": "stdout",
     "output_type": "stream",
     "text": [
      "CPU times: total: 0 ns\n",
      "Wall time: 0 ns\n",
      "100%|██████████| 50/50 [05:11<00:00,  6.22s/trial, best loss: -0.9782808198225759]\n",
      "Наилучшие значения гиперпараметров {'max_depth': 37.0, 'min_samples_leaf': 3.0, 'n_estimators': 300.0}\n"
     ]
    }
   ],
   "source": [
    "# начинаем подбор гиперпараметров\n",
    "%time\n",
    "\n",
    "trials = Trials() # используется для логирования результатов\n",
    "\n",
    "best=fmin(hyperopt_rf, # наша функция \n",
    "          space=space, # пространство гиперпараметров\n",
    "          algo=tpe.suggest, # алгоритм оптимизации, установлен по умолчанию, задавать необязательно\n",
    "          max_evals=50, # максимальное количество итераций\n",
    "          trials=trials, # логирование результатов\n",
    "          rstate=np.random.default_rng(random_state)# фиксируем для повторяемости результата\n",
    "         )\n",
    "print(\"Наилучшие значения гиперпараметров {}\".format(best))"
   ]
  },
  {
   "cell_type": "code",
   "execution_count": 23,
   "metadata": {},
   "outputs": [
    {
     "name": "stdout",
     "output_type": "stream",
     "text": [
      "f1_score на обучающем наборе: 0.98\n",
      "accuracy на тестовом наборе: 0.80\n",
      "f1_score на тестовом наборе: 0.82\n"
     ]
    }
   ],
   "source": [
    "# рассчитаем точность для тестовой выборки\n",
    "model = ensemble.RandomForestClassifier(\n",
    "    random_state=random_state, \n",
    "    n_estimators=int(best['n_estimators']),\n",
    "    max_depth=int(best['max_depth']),\n",
    "    min_samples_leaf=int(best['min_samples_leaf'])\n",
    ")\n",
    "model.fit(X_train, y_train)\n",
    "y_train_pred = model.predict(X_train)\n",
    "print('f1_score на обучающем наборе: {:.2f}'.format(metrics.f1_score(y_train, y_train_pred)))\n",
    "print(\"accuracy на тестовом наборе: {:.2f}\".format(model.score(X_test, y_test)))\n",
    "y_test_pred = model.predict(X_test)\n",
    "print('f1_score на тестовом наборе: {:.2f}'.format(metrics.f1_score(y_test, y_test_pred)))"
   ]
  },
  {
   "cell_type": "code",
   "execution_count": 30,
   "metadata": {},
   "outputs": [
    {
     "name": "stdout",
     "output_type": "stream",
     "text": [
      "  2%|▏         | 1/50 [00:04<03:39,  4.47s/trial, best loss: -0.7706169946428503]"
     ]
    },
    {
     "name": "stderr",
     "output_type": "stream",
     "text": [
      "c:\\Users\\Мария\\AppData\\Local\\Programs\\Python\\Python39\\lib\\site-packages\\sklearn\\linear_model\\_sag.py:350: ConvergenceWarning: The max_iter was reached which means the coef_ did not converge\n",
      "  warnings.warn(\n",
      "\n"
     ]
    },
    {
     "name": "stdout",
     "output_type": "stream",
     "text": [
      "  6%|▌         | 3/50 [00:32<07:58, 10.18s/trial, best loss: -0.7807204491271118]"
     ]
    },
    {
     "name": "stderr",
     "output_type": "stream",
     "text": [
      "c:\\Users\\Мария\\AppData\\Local\\Programs\\Python\\Python39\\lib\\site-packages\\sklearn\\linear_model\\_sag.py:350: ConvergenceWarning: The max_iter was reached which means the coef_ did not converge\n",
      "  warnings.warn(\n",
      "\n"
     ]
    },
    {
     "name": "stdout",
     "output_type": "stream",
     "text": [
      " 10%|█         | 5/50 [01:06<09:34, 12.76s/trial, best loss: -0.7826782883390004]"
     ]
    },
    {
     "name": "stderr",
     "output_type": "stream",
     "text": [
      "c:\\Users\\Мария\\AppData\\Local\\Programs\\Python\\Python39\\lib\\site-packages\\sklearn\\linear_model\\_sag.py:350: ConvergenceWarning: The max_iter was reached which means the coef_ did not converge\n",
      "  warnings.warn(\n",
      "\n"
     ]
    },
    {
     "name": "stdout",
     "output_type": "stream",
     "text": [
      " 12%|█▏        | 6/50 [01:26<11:06, 15.14s/trial, best loss: -0.7826782883390004]"
     ]
    },
    {
     "name": "stderr",
     "output_type": "stream",
     "text": [
      "c:\\Users\\Мария\\AppData\\Local\\Programs\\Python\\Python39\\lib\\site-packages\\sklearn\\linear_model\\_sag.py:350: ConvergenceWarning: The max_iter was reached which means the coef_ did not converge\n",
      "  warnings.warn(\n",
      "\n"
     ]
    },
    {
     "name": "stdout",
     "output_type": "stream",
     "text": [
      " 18%|█▊        | 9/50 [01:51<06:13,  9.12s/trial, best loss: -0.7826782883390004]"
     ]
    },
    {
     "name": "stderr",
     "output_type": "stream",
     "text": [
      "c:\\Users\\Мария\\AppData\\Local\\Programs\\Python\\Python39\\lib\\site-packages\\sklearn\\linear_model\\_sag.py:350: ConvergenceWarning: The max_iter was reached which means the coef_ did not converge\n",
      "  warnings.warn(\n",
      "\n"
     ]
    },
    {
     "name": "stdout",
     "output_type": "stream",
     "text": [
      " 22%|██▏       | 11/50 [02:21<07:05, 10.92s/trial, best loss: -0.7826782883390004]"
     ]
    },
    {
     "name": "stderr",
     "output_type": "stream",
     "text": [
      "c:\\Users\\Мария\\AppData\\Local\\Programs\\Python\\Python39\\lib\\site-packages\\sklearn\\linear_model\\_sag.py:350: ConvergenceWarning: The max_iter was reached which means the coef_ did not converge\n",
      "  warnings.warn(\n",
      "\n"
     ]
    },
    {
     "name": "stdout",
     "output_type": "stream",
     "text": [
      " 26%|██▌       | 13/50 [02:43<06:17, 10.19s/trial, best loss: -0.7826782883390004]"
     ]
    },
    {
     "name": "stderr",
     "output_type": "stream",
     "text": [
      "c:\\Users\\Мария\\AppData\\Local\\Programs\\Python\\Python39\\lib\\site-packages\\sklearn\\linear_model\\_sag.py:350: ConvergenceWarning: The max_iter was reached which means the coef_ did not converge\n",
      "  warnings.warn(\n",
      "\n"
     ]
    },
    {
     "name": "stdout",
     "output_type": "stream",
     "text": [
      " 28%|██▊       | 14/50 [03:11<09:22, 15.63s/trial, best loss: -0.7826782883390004]"
     ]
    },
    {
     "name": "stderr",
     "output_type": "stream",
     "text": [
      "c:\\Users\\Мария\\AppData\\Local\\Programs\\Python\\Python39\\lib\\site-packages\\sklearn\\linear_model\\_sag.py:350: ConvergenceWarning: The max_iter was reached which means the coef_ did not converge\n",
      "  warnings.warn(\n",
      "\n"
     ]
    },
    {
     "name": "stdout",
     "output_type": "stream",
     "text": [
      " 32%|███▏      | 16/50 [03:44<08:23, 14.82s/trial, best loss: -0.7826782883390004]"
     ]
    },
    {
     "name": "stderr",
     "output_type": "stream",
     "text": [
      "c:\\Users\\Мария\\AppData\\Local\\Programs\\Python\\Python39\\lib\\site-packages\\sklearn\\linear_model\\_sag.py:350: ConvergenceWarning: The max_iter was reached which means the coef_ did not converge\n",
      "  warnings.warn(\n",
      "\n"
     ]
    },
    {
     "name": "stdout",
     "output_type": "stream",
     "text": [
      " 34%|███▍      | 17/50 [04:03<08:51, 16.09s/trial, best loss: -0.7826782883390004]"
     ]
    },
    {
     "name": "stderr",
     "output_type": "stream",
     "text": [
      "c:\\Users\\Мария\\AppData\\Local\\Programs\\Python\\Python39\\lib\\site-packages\\sklearn\\linear_model\\_sag.py:350: ConvergenceWarning: The max_iter was reached which means the coef_ did not converge\n",
      "  warnings.warn(\n",
      "\n"
     ]
    },
    {
     "name": "stdout",
     "output_type": "stream",
     "text": [
      " 36%|███▌      | 18/50 [04:28<09:59, 18.73s/trial, best loss: -0.7843573900686336]"
     ]
    },
    {
     "name": "stderr",
     "output_type": "stream",
     "text": [
      "c:\\Users\\Мария\\AppData\\Local\\Programs\\Python\\Python39\\lib\\site-packages\\sklearn\\linear_model\\_sag.py:350: ConvergenceWarning: The max_iter was reached which means the coef_ did not converge\n",
      "  warnings.warn(\n",
      "\n"
     ]
    },
    {
     "name": "stdout",
     "output_type": "stream",
     "text": [
      " 40%|████      | 20/50 [05:00<08:04, 16.15s/trial, best loss: -0.7843573900686336]"
     ]
    },
    {
     "name": "stderr",
     "output_type": "stream",
     "text": [
      "c:\\Users\\Мария\\AppData\\Local\\Programs\\Python\\Python39\\lib\\site-packages\\sklearn\\linear_model\\_sag.py:350: ConvergenceWarning: The max_iter was reached which means the coef_ did not converge\n",
      "  warnings.warn(\n",
      "\n"
     ]
    },
    {
     "name": "stdout",
     "output_type": "stream",
     "text": [
      " 42%|████▏     | 21/50 [05:26<09:14, 19.11s/trial, best loss: -0.7843573900686336]"
     ]
    },
    {
     "name": "stderr",
     "output_type": "stream",
     "text": [
      "c:\\Users\\Мария\\AppData\\Local\\Programs\\Python\\Python39\\lib\\site-packages\\sklearn\\linear_model\\_sag.py:350: ConvergenceWarning: The max_iter was reached which means the coef_ did not converge\n",
      "  warnings.warn(\n",
      "\n"
     ]
    },
    {
     "name": "stdout",
     "output_type": "stream",
     "text": [
      " 44%|████▍     | 22/50 [05:52<09:54, 21.22s/trial, best loss: -0.7843573900686336]"
     ]
    },
    {
     "name": "stderr",
     "output_type": "stream",
     "text": [
      "c:\\Users\\Мария\\AppData\\Local\\Programs\\Python\\Python39\\lib\\site-packages\\sklearn\\linear_model\\_sag.py:350: ConvergenceWarning: The max_iter was reached which means the coef_ did not converge\n",
      "  warnings.warn(\n",
      "\n"
     ]
    },
    {
     "name": "stdout",
     "output_type": "stream",
     "text": [
      " 46%|████▌     | 23/50 [06:20<10:23, 23.08s/trial, best loss: -0.7843573900686336]"
     ]
    },
    {
     "name": "stderr",
     "output_type": "stream",
     "text": [
      "c:\\Users\\Мария\\AppData\\Local\\Programs\\Python\\Python39\\lib\\site-packages\\sklearn\\linear_model\\_sag.py:350: ConvergenceWarning: The max_iter was reached which means the coef_ did not converge\n",
      "  warnings.warn(\n",
      "\n"
     ]
    },
    {
     "name": "stdout",
     "output_type": "stream",
     "text": [
      " 48%|████▊     | 24/50 [06:47<10:29, 24.23s/trial, best loss: -0.7843573900686336]"
     ]
    },
    {
     "name": "stderr",
     "output_type": "stream",
     "text": [
      "c:\\Users\\Мария\\AppData\\Local\\Programs\\Python\\Python39\\lib\\site-packages\\sklearn\\linear_model\\_sag.py:350: ConvergenceWarning: The max_iter was reached which means the coef_ did not converge\n",
      "  warnings.warn(\n",
      "\n"
     ]
    },
    {
     "name": "stdout",
     "output_type": "stream",
     "text": [
      " 52%|█████▏    | 26/50 [07:20<07:50, 19.61s/trial, best loss: -0.7843573900686336]"
     ]
    },
    {
     "name": "stderr",
     "output_type": "stream",
     "text": [
      "c:\\Users\\Мария\\AppData\\Local\\Programs\\Python\\Python39\\lib\\site-packages\\sklearn\\linear_model\\_sag.py:350: ConvergenceWarning: The max_iter was reached which means the coef_ did not converge\n",
      "  warnings.warn(\n",
      "\n"
     ]
    },
    {
     "name": "stdout",
     "output_type": "stream",
     "text": [
      " 54%|█████▍    | 27/50 [07:45<08:09, 21.28s/trial, best loss: -0.7843573900686336]"
     ]
    },
    {
     "name": "stderr",
     "output_type": "stream",
     "text": [
      "c:\\Users\\Мария\\AppData\\Local\\Programs\\Python\\Python39\\lib\\site-packages\\sklearn\\linear_model\\_sag.py:350: ConvergenceWarning: The max_iter was reached which means the coef_ did not converge\n",
      "  warnings.warn(\n",
      "\n"
     ]
    },
    {
     "name": "stdout",
     "output_type": "stream",
     "text": [
      " 56%|█████▌    | 28/50 [08:12<08:22, 22.85s/trial, best loss: -0.7843573900686336]"
     ]
    },
    {
     "name": "stderr",
     "output_type": "stream",
     "text": [
      "c:\\Users\\Мария\\AppData\\Local\\Programs\\Python\\Python39\\lib\\site-packages\\sklearn\\linear_model\\_sag.py:350: ConvergenceWarning: The max_iter was reached which means the coef_ did not converge\n",
      "  warnings.warn(\n",
      "\n"
     ]
    },
    {
     "name": "stdout",
     "output_type": "stream",
     "text": [
      " 58%|█████▊    | 29/50 [08:39<08:28, 24.21s/trial, best loss: -0.7843573900686336]"
     ]
    },
    {
     "name": "stderr",
     "output_type": "stream",
     "text": [
      "c:\\Users\\Мария\\AppData\\Local\\Programs\\Python\\Python39\\lib\\site-packages\\sklearn\\linear_model\\_sag.py:350: ConvergenceWarning: The max_iter was reached which means the coef_ did not converge\n",
      "  warnings.warn(\n",
      "\n"
     ]
    },
    {
     "name": "stdout",
     "output_type": "stream",
     "text": [
      " 60%|██████    | 30/50 [09:05<08:16, 24.85s/trial, best loss: -0.7843573900686336]"
     ]
    },
    {
     "name": "stderr",
     "output_type": "stream",
     "text": [
      "c:\\Users\\Мария\\AppData\\Local\\Programs\\Python\\Python39\\lib\\site-packages\\sklearn\\linear_model\\_sag.py:350: ConvergenceWarning: The max_iter was reached which means the coef_ did not converge\n",
      "  warnings.warn(\n",
      "\n"
     ]
    },
    {
     "name": "stdout",
     "output_type": "stream",
     "text": [
      " 62%|██████▏   | 31/50 [09:30<07:52, 24.84s/trial, best loss: -0.7843573900686336]"
     ]
    },
    {
     "name": "stderr",
     "output_type": "stream",
     "text": [
      "c:\\Users\\Мария\\AppData\\Local\\Programs\\Python\\Python39\\lib\\site-packages\\sklearn\\linear_model\\_sag.py:350: ConvergenceWarning: The max_iter was reached which means the coef_ did not converge\n",
      "  warnings.warn(\n",
      "\n"
     ]
    },
    {
     "name": "stdout",
     "output_type": "stream",
     "text": [
      " 66%|██████▌   | 33/50 [10:05<05:45, 20.31s/trial, best loss: -0.7843573900686336]"
     ]
    },
    {
     "name": "stderr",
     "output_type": "stream",
     "text": [
      "c:\\Users\\Мария\\AppData\\Local\\Programs\\Python\\Python39\\lib\\site-packages\\sklearn\\linear_model\\_sag.py:350: ConvergenceWarning: The max_iter was reached which means the coef_ did not converge\n",
      "  warnings.warn(\n",
      "\n"
     ]
    },
    {
     "name": "stdout",
     "output_type": "stream",
     "text": [
      " 68%|██████▊   | 34/50 [10:34<06:04, 22.78s/trial, best loss: -0.7843573900686336]"
     ]
    },
    {
     "name": "stderr",
     "output_type": "stream",
     "text": [
      "c:\\Users\\Мария\\AppData\\Local\\Programs\\Python\\Python39\\lib\\site-packages\\sklearn\\linear_model\\_sag.py:350: ConvergenceWarning: The max_iter was reached which means the coef_ did not converge\n",
      "  warnings.warn(\n",
      "\n"
     ]
    },
    {
     "name": "stdout",
     "output_type": "stream",
     "text": [
      " 70%|███████   | 35/50 [10:52<05:23, 21.56s/trial, best loss: -0.7843573900686336]"
     ]
    },
    {
     "name": "stderr",
     "output_type": "stream",
     "text": [
      "c:\\Users\\Мария\\AppData\\Local\\Programs\\Python\\Python39\\lib\\site-packages\\sklearn\\linear_model\\_sag.py:350: ConvergenceWarning: The max_iter was reached which means the coef_ did not converge\n",
      "  warnings.warn(\n",
      "\n"
     ]
    },
    {
     "name": "stdout",
     "output_type": "stream",
     "text": [
      " 74%|███████▍  | 37/50 [11:22<03:41, 17.01s/trial, best loss: -0.7843573900686336]"
     ]
    },
    {
     "name": "stderr",
     "output_type": "stream",
     "text": [
      "c:\\Users\\Мария\\AppData\\Local\\Programs\\Python\\Python39\\lib\\site-packages\\sklearn\\linear_model\\_sag.py:350: ConvergenceWarning: The max_iter was reached which means the coef_ did not converge\n",
      "  warnings.warn(\n",
      "\n"
     ]
    },
    {
     "name": "stdout",
     "output_type": "stream",
     "text": [
      " 76%|███████▌  | 38/50 [11:41<03:30, 17.52s/trial, best loss: -0.7843573900686336]"
     ]
    },
    {
     "name": "stderr",
     "output_type": "stream",
     "text": [
      "c:\\Users\\Мария\\AppData\\Local\\Programs\\Python\\Python39\\lib\\site-packages\\sklearn\\linear_model\\_sag.py:350: ConvergenceWarning: The max_iter was reached which means the coef_ did not converge\n",
      "  warnings.warn(\n",
      "\n"
     ]
    },
    {
     "name": "stdout",
     "output_type": "stream",
     "text": [
      " 80%|████████  | 40/50 [12:07<02:21, 14.19s/trial, best loss: -0.7843573900686336]"
     ]
    },
    {
     "name": "stderr",
     "output_type": "stream",
     "text": [
      "c:\\Users\\Мария\\AppData\\Local\\Programs\\Python\\Python39\\lib\\site-packages\\sklearn\\linear_model\\_sag.py:350: ConvergenceWarning: The max_iter was reached which means the coef_ did not converge\n",
      "  warnings.warn(\n",
      "\n"
     ]
    },
    {
     "name": "stdout",
     "output_type": "stream",
     "text": [
      " 84%|████████▍ | 42/50 [12:35<01:43, 12.93s/trial, best loss: -0.7843573900686336]"
     ]
    },
    {
     "name": "stderr",
     "output_type": "stream",
     "text": [
      "c:\\Users\\Мария\\AppData\\Local\\Programs\\Python\\Python39\\lib\\site-packages\\sklearn\\linear_model\\_sag.py:350: ConvergenceWarning: The max_iter was reached which means the coef_ did not converge\n",
      "  warnings.warn(\n",
      "\n"
     ]
    },
    {
     "name": "stdout",
     "output_type": "stream",
     "text": [
      " 86%|████████▌ | 43/50 [12:53<01:42, 14.59s/trial, best loss: -0.7843573900686336]"
     ]
    },
    {
     "name": "stderr",
     "output_type": "stream",
     "text": [
      "c:\\Users\\Мария\\AppData\\Local\\Programs\\Python\\Python39\\lib\\site-packages\\sklearn\\linear_model\\_sag.py:350: ConvergenceWarning: The max_iter was reached which means the coef_ did not converge\n",
      "  warnings.warn(\n",
      "\n"
     ]
    },
    {
     "name": "stdout",
     "output_type": "stream",
     "text": [
      " 90%|█████████ | 45/50 [13:20<01:04, 12.94s/trial, best loss: -0.7843573900686336]"
     ]
    },
    {
     "name": "stderr",
     "output_type": "stream",
     "text": [
      "c:\\Users\\Мария\\AppData\\Local\\Programs\\Python\\Python39\\lib\\site-packages\\sklearn\\linear_model\\_sag.py:350: ConvergenceWarning: The max_iter was reached which means the coef_ did not converge\n",
      "  warnings.warn(\n",
      "\n"
     ]
    },
    {
     "name": "stdout",
     "output_type": "stream",
     "text": [
      " 92%|█████████▏| 46/50 [13:38<00:58, 14.58s/trial, best loss: -0.7843573900686336]"
     ]
    },
    {
     "name": "stderr",
     "output_type": "stream",
     "text": [
      "c:\\Users\\Мария\\AppData\\Local\\Programs\\Python\\Python39\\lib\\site-packages\\sklearn\\linear_model\\_sag.py:350: ConvergenceWarning: The max_iter was reached which means the coef_ did not converge\n",
      "  warnings.warn(\n",
      "\n"
     ]
    },
    {
     "name": "stdout",
     "output_type": "stream",
     "text": [
      " 96%|█████████▌| 48/50 [14:05<00:25, 12.95s/trial, best loss: -0.7843573900686336]"
     ]
    },
    {
     "name": "stderr",
     "output_type": "stream",
     "text": [
      "c:\\Users\\Мария\\AppData\\Local\\Programs\\Python\\Python39\\lib\\site-packages\\sklearn\\linear_model\\_sag.py:350: ConvergenceWarning: The max_iter was reached which means the coef_ did not converge\n",
      "  warnings.warn(\n",
      "\n"
     ]
    },
    {
     "name": "stdout",
     "output_type": "stream",
     "text": [
      " 98%|█████████▊| 49/50 [14:23<00:14, 14.27s/trial, best loss: -0.7843573900686336]"
     ]
    },
    {
     "name": "stderr",
     "output_type": "stream",
     "text": [
      "c:\\Users\\Мария\\AppData\\Local\\Programs\\Python\\Python39\\lib\\site-packages\\sklearn\\linear_model\\_sag.py:350: ConvergenceWarning: The max_iter was reached which means the coef_ did not converge\n",
      "  warnings.warn(\n",
      "\n"
     ]
    },
    {
     "name": "stdout",
     "output_type": "stream",
     "text": [
      "100%|██████████| 50/50 [14:50<00:00, 17.82s/trial, best loss: -0.7843573900686336]\n",
      "Наилучшие значения гиперпараметров {'C': 0.11205124547519595, 'penalty': 0, 'solver': 1}\n",
      "f1_score на обучающем наборе: 0.81\n",
      "accuracy на тестовом наборе: 0.76\n",
      "f1_score на тестовом наборе: 0.79\n"
     ]
    },
    {
     "name": "stderr",
     "output_type": "stream",
     "text": [
      "c:\\Users\\Мария\\AppData\\Local\\Programs\\Python\\Python39\\lib\\site-packages\\sklearn\\linear_model\\_sag.py:350: ConvergenceWarning: The max_iter was reached which means the coef_ did not converge\n",
      "  warnings.warn(\n"
     ]
    }
   ],
   "source": [
    "# зададим пространство поиска гиперпараметров для логистической регрессии\n",
    "pen = ['l1', 'l2']\n",
    "sol = ['liblinear', 'saga']\n",
    "space_lr={'penalty': hp.choice('penalty', ['l1', 'l2']), # тип регуляризации\n",
    "       'solver': hp.choice('solver', ['liblinear', 'saga']), # алгоритм оптимизации\n",
    "       'C': hp.uniform('C', low=0.01, high=1) # уровень силы регурялизации\n",
    "      }\n",
    "\n",
    "trials = Trials() # используется для логирования результатов\n",
    "\n",
    "def hyperopt_lr(params, cv=5, X=X_train, y=y_train, random_state=random_state):\n",
    "    # функция получает комбинацию гиперпараметров в \"params\"\n",
    "    params = {'penalty': str(params['penalty']), \n",
    "              'solver': str(params['solver']), \n",
    "             'C': float(params['C'])\n",
    "              }\n",
    "  \n",
    "\n",
    "    # используем эту комбинацию для построения модели\n",
    "    model = linear_model.LogisticRegression(**params, random_state=random_state)\n",
    "\n",
    "\n",
    "    # обучаем модель\n",
    "    model.fit(X, y)\n",
    "    #score = metrics.f1_score(y,model.predict(X))\n",
    "    score = cross_val_score(model, X, y, cv=cv, scoring=\"f1\", n_jobs=-1).mean()\n",
    "\n",
    "\n",
    "    # метрику необходимо минимизировать, поэтому ставим знак минус\n",
    "    return -score\n",
    "\n",
    "best=fmin(hyperopt_lr, # наша функция \n",
    "          space=space_lr, # пространство гиперпараметров\n",
    "          algo=tpe.suggest, # алгоритм оптимизации, установлен по умолчанию, задавать необязательно\n",
    "          max_evals=50, # максимальное количество итераций\n",
    "          trials=trials, # логирование результатов\n",
    "          rstate=np.random.default_rng(random_state)# фиксируем для повторяемости результата\n",
    "         )\n",
    "print(\"Наилучшие значения гиперпараметров {}\".format(best))\n",
    "\n",
    "# рассчитаем точность для тестовой выборки\n",
    "model = linear_model.LogisticRegression(\n",
    "    random_state=random_state, \n",
    "    penalty=pen[best['penalty']],\n",
    "    solver=sol[best['solver']],\n",
    "    C=float(best['C'])\n",
    ")\n",
    "model.fit(X_train, y_train)\n",
    "y_train_pred = model.predict(X_train)\n",
    "print('f1_score на обучающем наборе: {:.2f}'.format(metrics.f1_score(y_train, y_train_pred)))\n",
    "print(\"accuracy на тестовом наборе: {:.2f}\".format(model.score(X_test, y_test)))\n",
    "y_test_pred = model.predict(X_test)\n",
    "print('f1_score на тестовом наборе: {:.2f}'.format(metrics.f1_score(y_test, y_test_pred)))"
   ]
  },
  {
   "cell_type": "code",
   "execution_count": 29,
   "metadata": {},
   "outputs": [],
   "source": [
    "#optuna\n",
    "import optuna"
   ]
  },
  {
   "attachments": {},
   "cell_type": "markdown",
   "metadata": {},
   "source": [
    "Настроим оптимизацию гиперпараметров для алгоритма случайного леса."
   ]
  },
  {
   "cell_type": "code",
   "execution_count": 52,
   "metadata": {},
   "outputs": [],
   "source": [
    "def optuna_rf(trial):\n",
    "  # задаем пространства поиска гиперпараметров\n",
    "  n_estimators = trial.suggest_int('n_estimators', 100, 300, 10)\n",
    "  max_depth = trial.suggest_int('max_depth', 15, 40, 1)\n",
    "  min_samples_leaf = trial.suggest_int('min_samples_leaf', 3, 7, 1)\n",
    "\n",
    "  # создаем модель\n",
    "  model = ensemble.RandomForestClassifier(n_estimators=n_estimators,\n",
    "                                          max_depth=max_depth,\n",
    "                                          min_samples_leaf=min_samples_leaf,\n",
    "                                          random_state=random_state)\n",
    "  # обучаем модель\n",
    "  model.fit(X_train, y_train)\n",
    "  score = cross_val_score(model, X_train, y_train, cv=5, scoring=\"f1\", n_jobs=-1).mean()\n",
    "\n",
    "  return score"
   ]
  },
  {
   "cell_type": "code",
   "execution_count": 53,
   "metadata": {},
   "outputs": [
    {
     "name": "stderr",
     "output_type": "stream",
     "text": [
      "[I 2023-06-06 16:14:11,077] A new study created in memory with name: RandomForestClassifier\n",
      "[I 2023-06-06 16:14:19,288] Trial 0 finished with value: 0.7986156841749699 and parameters: {'n_estimators': 110, 'max_depth': 30, 'min_samples_leaf': 5}. Best is trial 0 with value: 0.7986156841749699.\n",
      "[I 2023-06-06 16:14:39,028] Trial 1 finished with value: 0.8017234324570065 and parameters: {'n_estimators': 260, 'max_depth': 16, 'min_samples_leaf': 5}. Best is trial 1 with value: 0.8017234324570065.\n",
      "[I 2023-06-06 16:14:58,679] Trial 2 finished with value: 0.7981125248827315 and parameters: {'n_estimators': 290, 'max_depth': 26, 'min_samples_leaf': 7}. Best is trial 1 with value: 0.8017234324570065.\n",
      "[I 2023-06-06 16:15:13,864] Trial 3 finished with value: 0.7995833883959963 and parameters: {'n_estimators': 220, 'max_depth': 38, 'min_samples_leaf': 7}. Best is trial 1 with value: 0.8017234324570065.\n",
      "[I 2023-06-06 16:15:24,111] Trial 4 finished with value: 0.806443751272402 and parameters: {'n_estimators': 120, 'max_depth': 27, 'min_samples_leaf': 3}. Best is trial 4 with value: 0.806443751272402.\n",
      "[I 2023-06-06 16:15:44,713] Trial 5 finished with value: 0.8046905036934835 and parameters: {'n_estimators': 280, 'max_depth': 39, 'min_samples_leaf': 5}. Best is trial 4 with value: 0.806443751272402.\n",
      "[I 2023-06-06 16:15:57,117] Trial 6 finished with value: 0.8082361613541587 and parameters: {'n_estimators': 150, 'max_depth': 33, 'min_samples_leaf': 3}. Best is trial 6 with value: 0.8082361613541587.\n",
      "[I 2023-06-06 16:16:12,396] Trial 7 finished with value: 0.8065425557747208 and parameters: {'n_estimators': 180, 'max_depth': 37, 'min_samples_leaf': 3}. Best is trial 6 with value: 0.8082361613541587.\n",
      "[I 2023-06-06 16:16:19,766] Trial 8 finished with value: 0.7972448111967132 and parameters: {'n_estimators': 100, 'max_depth': 33, 'min_samples_leaf': 7}. Best is trial 6 with value: 0.8082361613541587.\n",
      "[I 2023-06-06 16:16:28,852] Trial 9 finished with value: 0.7991485335851993 and parameters: {'n_estimators': 120, 'max_depth': 36, 'min_samples_leaf': 6}. Best is trial 6 with value: 0.8082361613541587.\n",
      "[I 2023-06-06 16:16:42,306] Trial 10 finished with value: 0.8034915104786082 and parameters: {'n_estimators': 170, 'max_depth': 22, 'min_samples_leaf': 4}. Best is trial 6 with value: 0.8082361613541587.\n",
      "[I 2023-06-06 16:16:55,750] Trial 11 finished with value: 0.8081355320511665 and parameters: {'n_estimators': 160, 'max_depth': 33, 'min_samples_leaf': 3}. Best is trial 6 with value: 0.8082361613541587.\n",
      "[I 2023-06-06 16:17:08,718] Trial 12 finished with value: 0.8052954120143164 and parameters: {'n_estimators': 160, 'max_depth': 32, 'min_samples_leaf': 4}. Best is trial 6 with value: 0.8082361613541587.\n",
      "[I 2023-06-06 16:17:27,012] Trial 13 finished with value: 0.8092652543060641 and parameters: {'n_estimators': 220, 'max_depth': 33, 'min_samples_leaf': 3}. Best is trial 13 with value: 0.8092652543060641.\n",
      "[I 2023-06-06 16:17:44,840] Trial 14 finished with value: 0.8056559440218859 and parameters: {'n_estimators': 230, 'max_depth': 23, 'min_samples_leaf': 4}. Best is trial 13 with value: 0.8092652543060641.\n",
      "[I 2023-06-06 16:18:02,418] Trial 15 finished with value: 0.8088695379027732 and parameters: {'n_estimators': 210, 'max_depth': 29, 'min_samples_leaf': 3}. Best is trial 13 with value: 0.8092652543060641.\n",
      "[I 2023-06-06 16:18:18,770] Trial 16 finished with value: 0.8046904895350437 and parameters: {'n_estimators': 210, 'max_depth': 29, 'min_samples_leaf': 4}. Best is trial 13 with value: 0.8092652543060641.\n",
      "[I 2023-06-06 16:18:38,808] Trial 17 finished with value: 0.8112646048531624 and parameters: {'n_estimators': 250, 'max_depth': 24, 'min_samples_leaf': 3}. Best is trial 17 with value: 0.8112646048531624.\n",
      "[I 2023-06-06 16:18:57,934] Trial 18 finished with value: 0.8090944331265744 and parameters: {'n_estimators': 250, 'max_depth': 18, 'min_samples_leaf': 4}. Best is trial 17 with value: 0.8112646048531624.\n",
      "[I 2023-06-06 16:19:15,869] Trial 19 finished with value: 0.8019014862746946 and parameters: {'n_estimators': 250, 'max_depth': 22, 'min_samples_leaf': 6}. Best is trial 17 with value: 0.8112646048531624.\n",
      "[I 2023-06-06 16:19:31,768] Trial 20 finished with value: 0.8083982052065988 and parameters: {'n_estimators': 190, 'max_depth': 25, 'min_samples_leaf': 3}. Best is trial 17 with value: 0.8112646048531624.\n",
      "[I 2023-06-06 16:19:50,471] Trial 21 finished with value: 0.8076905244334641 and parameters: {'n_estimators': 240, 'max_depth': 17, 'min_samples_leaf': 4}. Best is trial 17 with value: 0.8112646048531624.\n",
      "[I 2023-06-06 16:20:11,504] Trial 22 finished with value: 0.8103713021939981 and parameters: {'n_estimators': 270, 'max_depth': 18, 'min_samples_leaf': 4}. Best is trial 17 with value: 0.8112646048531624.\n",
      "[I 2023-06-06 16:20:33,752] Trial 23 finished with value: 0.8129170356528276 and parameters: {'n_estimators': 270, 'max_depth': 19, 'min_samples_leaf': 3}. Best is trial 23 with value: 0.8129170356528276.\n",
      "[I 2023-06-06 16:20:56,740] Trial 24 finished with value: 0.8050126979748015 and parameters: {'n_estimators': 300, 'max_depth': 19, 'min_samples_leaf': 4}. Best is trial 23 with value: 0.8129170356528276.\n",
      "[I 2023-06-06 16:21:18,878] Trial 25 finished with value: 0.8089102787643784 and parameters: {'n_estimators': 270, 'max_depth': 20, 'min_samples_leaf': 3}. Best is trial 23 with value: 0.8129170356528276.\n",
      "[I 2023-06-06 16:21:39,108] Trial 26 finished with value: 0.8084979947701474 and parameters: {'n_estimators': 270, 'max_depth': 20, 'min_samples_leaf': 4}. Best is trial 23 with value: 0.8129170356528276.\n",
      "[I 2023-06-06 16:22:02,269] Trial 27 finished with value: 0.807335010062765 and parameters: {'n_estimators': 300, 'max_depth': 15, 'min_samples_leaf': 3}. Best is trial 23 with value: 0.8129170356528276.\n",
      "[I 2023-06-06 16:22:23,403] Trial 28 finished with value: 0.8083587183376251 and parameters: {'n_estimators': 280, 'max_depth': 24, 'min_samples_leaf': 4}. Best is trial 23 with value: 0.8129170356528276.\n",
      "[I 2023-06-06 16:22:40,352] Trial 29 finished with value: 0.800538081698549 and parameters: {'n_estimators': 240, 'max_depth': 21, 'min_samples_leaf': 6}. Best is trial 23 with value: 0.8129170356528276.\n",
      "[I 2023-06-06 16:22:59,025] Trial 30 finished with value: 0.8002352125241792 and parameters: {'n_estimators': 260, 'max_depth': 18, 'min_samples_leaf': 5}. Best is trial 23 with value: 0.8129170356528276.\n",
      "[I 2023-06-06 16:23:18,250] Trial 31 finished with value: 0.8104145926550617 and parameters: {'n_estimators': 240, 'max_depth': 31, 'min_samples_leaf': 3}. Best is trial 23 with value: 0.8129170356528276.\n",
      "[I 2023-06-06 16:23:37,255] Trial 32 finished with value: 0.8056925089983885 and parameters: {'n_estimators': 260, 'max_depth': 15, 'min_samples_leaf': 3}. Best is trial 23 with value: 0.8129170356528276.\n",
      "[I 2023-06-06 16:23:57,837] Trial 33 finished with value: 0.8136745712336545 and parameters: {'n_estimators': 280, 'max_depth': 31, 'min_samples_leaf': 3}. Best is trial 33 with value: 0.8136745712336545.\n",
      "[I 2023-06-06 16:24:19,389] Trial 34 finished with value: 0.8117489423475639 and parameters: {'n_estimators': 290, 'max_depth': 31, 'min_samples_leaf': 3}. Best is trial 33 with value: 0.8136745712336545.\n",
      "[I 2023-06-06 16:24:40,495] Trial 35 finished with value: 0.8116405821292298 and parameters: {'n_estimators': 290, 'max_depth': 28, 'min_samples_leaf': 3}. Best is trial 33 with value: 0.8136745712336545.\n",
      "[I 2023-06-06 16:25:01,779] Trial 36 finished with value: 0.8109193374060636 and parameters: {'n_estimators': 290, 'max_depth': 27, 'min_samples_leaf': 3}. Best is trial 33 with value: 0.8136745712336545.\n",
      "[I 2023-06-06 16:25:20,959] Trial 37 finished with value: 0.8043443174454653 and parameters: {'n_estimators': 290, 'max_depth': 35, 'min_samples_leaf': 5}. Best is trial 33 with value: 0.8136745712336545.\n",
      "[I 2023-06-06 16:25:41,371] Trial 38 finished with value: 0.8128306244847238 and parameters: {'n_estimators': 280, 'max_depth': 29, 'min_samples_leaf': 3}. Best is trial 33 with value: 0.8136745712336545.\n",
      "[I 2023-06-06 16:26:03,324] Trial 39 finished with value: 0.8107607188637622 and parameters: {'n_estimators': 300, 'max_depth': 31, 'min_samples_leaf': 3}. Best is trial 33 with value: 0.8136745712336545.\n",
      "[I 2023-06-06 16:26:23,872] Trial 40 finished with value: 0.8133089031934124 and parameters: {'n_estimators': 280, 'max_depth': 35, 'min_samples_leaf': 3}. Best is trial 33 with value: 0.8136745712336545.\n",
      "[I 2023-06-06 16:26:44,590] Trial 41 finished with value: 0.8133089031934124 and parameters: {'n_estimators': 280, 'max_depth': 35, 'min_samples_leaf': 3}. Best is trial 33 with value: 0.8136745712336545.\n",
      "[I 2023-06-06 16:27:05,834] Trial 42 finished with value: 0.8133089031934124 and parameters: {'n_estimators': 280, 'max_depth': 35, 'min_samples_leaf': 3}. Best is trial 33 with value: 0.8136745712336545.\n",
      "[I 2023-06-06 16:27:26,275] Trial 43 finished with value: 0.8130889099709284 and parameters: {'n_estimators': 270, 'max_depth': 40, 'min_samples_leaf': 3}. Best is trial 33 with value: 0.8136745712336545.\n",
      "[I 2023-06-06 16:27:46,781] Trial 44 finished with value: 0.8133089031934124 and parameters: {'n_estimators': 280, 'max_depth': 38, 'min_samples_leaf': 3}. Best is trial 33 with value: 0.8136745712336545.\n",
      "[I 2023-06-06 16:28:07,575] Trial 45 finished with value: 0.8133089031934124 and parameters: {'n_estimators': 280, 'max_depth': 35, 'min_samples_leaf': 3}. Best is trial 33 with value: 0.8136745712336545.\n",
      "[I 2023-06-06 16:28:25,702] Trial 46 finished with value: 0.8071492294874828 and parameters: {'n_estimators': 260, 'max_depth': 38, 'min_samples_leaf': 4}. Best is trial 33 with value: 0.8136745712336545.\n",
      "[I 2023-06-06 16:28:33,825] Trial 47 finished with value: 0.8018807560550345 and parameters: {'n_estimators': 130, 'max_depth': 36, 'min_samples_leaf': 7}. Best is trial 33 with value: 0.8136745712336545.\n",
      "[I 2023-06-06 16:28:56,288] Trial 48 finished with value: 0.8110040650120924 and parameters: {'n_estimators': 300, 'max_depth': 34, 'min_samples_leaf': 3}. Best is trial 33 with value: 0.8136745712336545.\n",
      "[I 2023-06-06 16:29:17,593] Trial 49 finished with value: 0.8133089031934124 and parameters: {'n_estimators': 280, 'max_depth': 37, 'min_samples_leaf': 3}. Best is trial 33 with value: 0.8136745712336545.\n"
     ]
    },
    {
     "name": "stdout",
     "output_type": "stream",
     "text": [
      "CPU times: total: 5min 22s\n",
      "Wall time: 15min 6s\n"
     ]
    }
   ],
   "source": [
    "%%time\n",
    "# cоздаем объект исследования\n",
    "# можем напрямую указать, что нам необходимо максимизировать метрику direction=\"maximize\"\n",
    "study1 = optuna.create_study(study_name=\"RandomForestClassifier\", direction=\"maximize\")\n",
    "# ищем лучшую комбинацию гиперпараметров n_trials раз\n",
    "study1.optimize(optuna_rf, n_trials=50)"
   ]
  },
  {
   "cell_type": "code",
   "execution_count": 54,
   "metadata": {},
   "outputs": [
    {
     "name": "stdout",
     "output_type": "stream",
     "text": [
      "accuracy на тестовом наборе: 0.80\n",
      "f1_score на тестовом наборе: 0.82\n"
     ]
    }
   ],
   "source": [
    "# рассчитаем точность для тестовой выборки\n",
    "model = ensemble.RandomForestClassifier(**study1.best_params,random_state=random_state, )\n",
    "model.fit(X_train, y_train)\n",
    "y_train_pred = model.predict(X_train)\n",
    "print(\"accuracy на тестовом наборе: {:.2f}\".format(model.score(X_test, y_test)))\n",
    "y_test_pred = model.predict(X_test)\n",
    "print('f1_score на тестовом наборе: {:.2f}'.format(metrics.f1_score(y_test, y_test_pred)))"
   ]
  },
  {
   "attachments": {},
   "cell_type": "markdown",
   "metadata": {},
   "source": [
    "Настроим оптимизацию гиперпараметров для алгоритма логистической регрессии"
   ]
  },
  {
   "cell_type": "code",
   "execution_count": 42,
   "metadata": {},
   "outputs": [],
   "source": [
    "def optuna_lr(trial):\n",
    " # задаем пространства поиска гиперпараметров\n",
    "    penalty = trial.suggest_categorical('penalty', ['l2', 'none'])\n",
    "    solver = trial.suggest_categorical('solver', ['lbfgs', 'sag'])\n",
    "    C = trial.suggest_float('C', 0.01, 1)\n",
    "\n",
    "   # создаем модель\n",
    "     # создаем модель\n",
    "    model = linear_model.LogisticRegression(penalty=penalty,\n",
    "                                          solver=solver,\n",
    "                                          C=C,\n",
    "                                          random_state=random_state)\n",
    "  # обучаем модель\n",
    "    model.fit(X_train, y_train)\n",
    "    score = cross_val_score(model, X_train, y_train, cv=5, scoring=\"f1\", n_jobs=-1).mean()\n",
    "\n",
    "    return score"
   ]
  },
  {
   "cell_type": "code",
   "execution_count": 48,
   "metadata": {},
   "outputs": [
    {
     "name": "stderr",
     "output_type": "stream",
     "text": [
      "[I 2023-06-06 15:53:50,622] A new study created in memory with name: LogisticRegression\n"
     ]
    },
    {
     "name": "stdout",
     "output_type": "stream",
     "text": [
      "CPU times: total: 0 ns\n",
      "Wall time: 0 ns\n"
     ]
    },
    {
     "name": "stderr",
     "output_type": "stream",
     "text": [
      "c:\\Users\\Мария\\AppData\\Local\\Programs\\Python\\Python39\\lib\\site-packages\\sklearn\\linear_model\\_logistic.py:1173: FutureWarning:\n",
      "\n",
      "`penalty='none'`has been deprecated in 1.2 and will be removed in 1.4. To keep the past behaviour, set `penalty=None`.\n",
      "\n",
      "c:\\Users\\Мария\\AppData\\Local\\Programs\\Python\\Python39\\lib\\site-packages\\sklearn\\linear_model\\_logistic.py:1181: UserWarning:\n",
      "\n",
      "Setting penalty=None will ignore the C and l1_ratio parameters\n",
      "\n",
      "c:\\Users\\Мария\\AppData\\Local\\Programs\\Python\\Python39\\lib\\site-packages\\sklearn\\linear_model\\_logistic.py:458: ConvergenceWarning:\n",
      "\n",
      "lbfgs failed to converge (status=1):\n",
      "STOP: TOTAL NO. of ITERATIONS REACHED LIMIT.\n",
      "\n",
      "Increase the number of iterations (max_iter) or scale the data as shown in:\n",
      "    https://scikit-learn.org/stable/modules/preprocessing.html\n",
      "Please also refer to the documentation for alternative solver options:\n",
      "    https://scikit-learn.org/stable/modules/linear_model.html#logistic-regression\n",
      "\n",
      "[I 2023-06-06 15:53:57,812] Trial 0 finished with value: 0.7475536741581407 and parameters: {'penalty': 'none', 'solver': 'lbfgs', 'C': 0.4568678814416827}. Best is trial 0 with value: 0.7475536741581407.\n",
      "c:\\Users\\Мария\\AppData\\Local\\Programs\\Python\\Python39\\lib\\site-packages\\sklearn\\linear_model\\_sag.py:350: ConvergenceWarning:\n",
      "\n",
      "The max_iter was reached which means the coef_ did not converge\n",
      "\n",
      "[I 2023-06-06 15:54:20,248] Trial 1 finished with value: 0.7799472593915519 and parameters: {'penalty': 'l2', 'solver': 'sag', 'C': 0.3067268296241351}. Best is trial 1 with value: 0.7799472593915519.\n",
      "c:\\Users\\Мария\\AppData\\Local\\Programs\\Python\\Python39\\lib\\site-packages\\sklearn\\linear_model\\_logistic.py:458: ConvergenceWarning:\n",
      "\n",
      "lbfgs failed to converge (status=1):\n",
      "STOP: TOTAL NO. of ITERATIONS REACHED LIMIT.\n",
      "\n",
      "Increase the number of iterations (max_iter) or scale the data as shown in:\n",
      "    https://scikit-learn.org/stable/modules/preprocessing.html\n",
      "Please also refer to the documentation for alternative solver options:\n",
      "    https://scikit-learn.org/stable/modules/linear_model.html#logistic-regression\n",
      "\n",
      "[I 2023-06-06 15:54:24,655] Trial 2 finished with value: 0.7705292228170624 and parameters: {'penalty': 'l2', 'solver': 'lbfgs', 'C': 0.9578566176708566}. Best is trial 1 with value: 0.7799472593915519.\n",
      "c:\\Users\\Мария\\AppData\\Local\\Programs\\Python\\Python39\\lib\\site-packages\\sklearn\\linear_model\\_logistic.py:458: ConvergenceWarning:\n",
      "\n",
      "lbfgs failed to converge (status=1):\n",
      "STOP: TOTAL NO. of ITERATIONS REACHED LIMIT.\n",
      "\n",
      "Increase the number of iterations (max_iter) or scale the data as shown in:\n",
      "    https://scikit-learn.org/stable/modules/preprocessing.html\n",
      "Please also refer to the documentation for alternative solver options:\n",
      "    https://scikit-learn.org/stable/modules/linear_model.html#logistic-regression\n",
      "\n",
      "[I 2023-06-06 15:54:29,227] Trial 3 finished with value: 0.7828786258241874 and parameters: {'penalty': 'l2', 'solver': 'lbfgs', 'C': 0.11925274710886165}. Best is trial 3 with value: 0.7828786258241874.\n",
      "c:\\Users\\Мария\\AppData\\Local\\Programs\\Python\\Python39\\lib\\site-packages\\sklearn\\linear_model\\_logistic.py:1173: FutureWarning:\n",
      "\n",
      "`penalty='none'`has been deprecated in 1.2 and will be removed in 1.4. To keep the past behaviour, set `penalty=None`.\n",
      "\n",
      "c:\\Users\\Мария\\AppData\\Local\\Programs\\Python\\Python39\\lib\\site-packages\\sklearn\\linear_model\\_logistic.py:1181: UserWarning:\n",
      "\n",
      "Setting penalty=None will ignore the C and l1_ratio parameters\n",
      "\n",
      "c:\\Users\\Мария\\AppData\\Local\\Programs\\Python\\Python39\\lib\\site-packages\\sklearn\\linear_model\\_logistic.py:458: ConvergenceWarning:\n",
      "\n",
      "lbfgs failed to converge (status=1):\n",
      "STOP: TOTAL NO. of ITERATIONS REACHED LIMIT.\n",
      "\n",
      "Increase the number of iterations (max_iter) or scale the data as shown in:\n",
      "    https://scikit-learn.org/stable/modules/preprocessing.html\n",
      "Please also refer to the documentation for alternative solver options:\n",
      "    https://scikit-learn.org/stable/modules/linear_model.html#logistic-regression\n",
      "\n",
      "[I 2023-06-06 15:54:33,713] Trial 4 finished with value: 0.7475536741581407 and parameters: {'penalty': 'none', 'solver': 'lbfgs', 'C': 0.9994544352005195}. Best is trial 3 with value: 0.7828786258241874.\n",
      "c:\\Users\\Мария\\AppData\\Local\\Programs\\Python\\Python39\\lib\\site-packages\\sklearn\\linear_model\\_sag.py:350: ConvergenceWarning:\n",
      "\n",
      "The max_iter was reached which means the coef_ did not converge\n",
      "\n",
      "[I 2023-06-06 15:54:58,312] Trial 5 finished with value: 0.7806517752861816 and parameters: {'penalty': 'l2', 'solver': 'sag', 'C': 0.18472167392469488}. Best is trial 3 with value: 0.7828786258241874.\n",
      "c:\\Users\\Мария\\AppData\\Local\\Programs\\Python\\Python39\\lib\\site-packages\\sklearn\\linear_model\\_sag.py:350: ConvergenceWarning:\n",
      "\n",
      "The max_iter was reached which means the coef_ did not converge\n",
      "\n",
      "[I 2023-06-06 15:55:23,242] Trial 6 finished with value: 0.7796978286720391 and parameters: {'penalty': 'l2', 'solver': 'sag', 'C': 0.32015411690648393}. Best is trial 3 with value: 0.7828786258241874.\n",
      "c:\\Users\\Мария\\AppData\\Local\\Programs\\Python\\Python39\\lib\\site-packages\\sklearn\\linear_model\\_logistic.py:458: ConvergenceWarning:\n",
      "\n",
      "lbfgs failed to converge (status=1):\n",
      "STOP: TOTAL NO. of ITERATIONS REACHED LIMIT.\n",
      "\n",
      "Increase the number of iterations (max_iter) or scale the data as shown in:\n",
      "    https://scikit-learn.org/stable/modules/preprocessing.html\n",
      "Please also refer to the documentation for alternative solver options:\n",
      "    https://scikit-learn.org/stable/modules/linear_model.html#logistic-regression\n",
      "\n",
      "[I 2023-06-06 15:55:27,801] Trial 7 finished with value: 0.7730149995255237 and parameters: {'penalty': 'l2', 'solver': 'lbfgs', 'C': 0.5248818117406043}. Best is trial 3 with value: 0.7828786258241874.\n",
      "c:\\Users\\Мария\\AppData\\Local\\Programs\\Python\\Python39\\lib\\site-packages\\sklearn\\linear_model\\_sag.py:350: ConvergenceWarning:\n",
      "\n",
      "The max_iter was reached which means the coef_ did not converge\n",
      "\n",
      "[I 2023-06-06 15:55:52,183] Trial 8 finished with value: 0.7733879088050886 and parameters: {'penalty': 'l2', 'solver': 'sag', 'C': 0.6170007560422516}. Best is trial 3 with value: 0.7828786258241874.\n",
      "c:\\Users\\Мария\\AppData\\Local\\Programs\\Python\\Python39\\lib\\site-packages\\sklearn\\linear_model\\_logistic.py:1173: FutureWarning:\n",
      "\n",
      "`penalty='none'`has been deprecated in 1.2 and will be removed in 1.4. To keep the past behaviour, set `penalty=None`.\n",
      "\n",
      "c:\\Users\\Мария\\AppData\\Local\\Programs\\Python\\Python39\\lib\\site-packages\\sklearn\\linear_model\\_logistic.py:1181: UserWarning:\n",
      "\n",
      "Setting penalty=None will ignore the C and l1_ratio parameters\n",
      "\n",
      "c:\\Users\\Мария\\AppData\\Local\\Programs\\Python\\Python39\\lib\\site-packages\\sklearn\\linear_model\\_logistic.py:458: ConvergenceWarning:\n",
      "\n",
      "lbfgs failed to converge (status=1):\n",
      "STOP: TOTAL NO. of ITERATIONS REACHED LIMIT.\n",
      "\n",
      "Increase the number of iterations (max_iter) or scale the data as shown in:\n",
      "    https://scikit-learn.org/stable/modules/preprocessing.html\n",
      "Please also refer to the documentation for alternative solver options:\n",
      "    https://scikit-learn.org/stable/modules/linear_model.html#logistic-regression\n",
      "\n",
      "[I 2023-06-06 15:55:56,406] Trial 9 finished with value: 0.7475536741581407 and parameters: {'penalty': 'none', 'solver': 'lbfgs', 'C': 0.4891462715054264}. Best is trial 3 with value: 0.7828786258241874.\n",
      "c:\\Users\\Мария\\AppData\\Local\\Programs\\Python\\Python39\\lib\\site-packages\\sklearn\\linear_model\\_logistic.py:1173: FutureWarning:\n",
      "\n",
      "`penalty='none'`has been deprecated in 1.2 and will be removed in 1.4. To keep the past behaviour, set `penalty=None`.\n",
      "\n",
      "c:\\Users\\Мария\\AppData\\Local\\Programs\\Python\\Python39\\lib\\site-packages\\sklearn\\linear_model\\_logistic.py:1181: UserWarning:\n",
      "\n",
      "Setting penalty=None will ignore the C and l1_ratio parameters\n",
      "\n",
      "c:\\Users\\Мария\\AppData\\Local\\Programs\\Python\\Python39\\lib\\site-packages\\sklearn\\linear_model\\_logistic.py:458: ConvergenceWarning:\n",
      "\n",
      "lbfgs failed to converge (status=1):\n",
      "STOP: TOTAL NO. of ITERATIONS REACHED LIMIT.\n",
      "\n",
      "Increase the number of iterations (max_iter) or scale the data as shown in:\n",
      "    https://scikit-learn.org/stable/modules/preprocessing.html\n",
      "Please also refer to the documentation for alternative solver options:\n",
      "    https://scikit-learn.org/stable/modules/linear_model.html#logistic-regression\n",
      "\n",
      "[I 2023-06-06 15:56:01,000] Trial 10 finished with value: 0.7475536741581407 and parameters: {'penalty': 'none', 'solver': 'lbfgs', 'C': 0.04368727261174904}. Best is trial 3 with value: 0.7828786258241874.\n",
      "c:\\Users\\Мария\\AppData\\Local\\Programs\\Python\\Python39\\lib\\site-packages\\sklearn\\linear_model\\_sag.py:350: ConvergenceWarning:\n",
      "\n",
      "The max_iter was reached which means the coef_ did not converge\n",
      "\n",
      "[I 2023-06-06 15:56:24,191] Trial 11 finished with value: 0.7824960759428528 and parameters: {'penalty': 'l2', 'solver': 'sag', 'C': 0.01417375343960059}. Best is trial 3 with value: 0.7828786258241874.\n",
      "c:\\Users\\Мария\\AppData\\Local\\Programs\\Python\\Python39\\lib\\site-packages\\sklearn\\linear_model\\_sag.py:350: ConvergenceWarning:\n",
      "\n",
      "The max_iter was reached which means the coef_ did not converge\n",
      "\n",
      "[I 2023-06-06 15:56:47,534] Trial 12 finished with value: 0.7830608814210012 and parameters: {'penalty': 'l2', 'solver': 'sag', 'C': 0.07565916248976672}. Best is trial 12 with value: 0.7830608814210012.\n",
      "c:\\Users\\Мария\\AppData\\Local\\Programs\\Python\\Python39\\lib\\site-packages\\sklearn\\linear_model\\_sag.py:350: ConvergenceWarning:\n",
      "\n",
      "The max_iter was reached which means the coef_ did not converge\n",
      "\n",
      "[I 2023-06-06 15:57:11,277] Trial 13 finished with value: 0.7826529547870881 and parameters: {'penalty': 'l2', 'solver': 'sag', 'C': 0.14119846718713489}. Best is trial 12 with value: 0.7830608814210012.\n",
      "c:\\Users\\Мария\\AppData\\Local\\Programs\\Python\\Python39\\lib\\site-packages\\sklearn\\linear_model\\_sag.py:350: ConvergenceWarning:\n",
      "\n",
      "The max_iter was reached which means the coef_ did not converge\n",
      "\n",
      "[I 2023-06-06 15:57:34,965] Trial 14 finished with value: 0.7817729035495331 and parameters: {'penalty': 'l2', 'solver': 'sag', 'C': 0.013464806908106822}. Best is trial 12 with value: 0.7830608814210012.\n",
      "c:\\Users\\Мария\\AppData\\Local\\Programs\\Python\\Python39\\lib\\site-packages\\sklearn\\linear_model\\_logistic.py:458: ConvergenceWarning:\n",
      "\n",
      "lbfgs failed to converge (status=1):\n",
      "STOP: TOTAL NO. of ITERATIONS REACHED LIMIT.\n",
      "\n",
      "Increase the number of iterations (max_iter) or scale the data as shown in:\n",
      "    https://scikit-learn.org/stable/modules/preprocessing.html\n",
      "Please also refer to the documentation for alternative solver options:\n",
      "    https://scikit-learn.org/stable/modules/linear_model.html#logistic-regression\n",
      "\n",
      "[I 2023-06-06 15:57:39,714] Trial 15 finished with value: 0.780925092420721 and parameters: {'penalty': 'l2', 'solver': 'lbfgs', 'C': 0.18331692883184075}. Best is trial 12 with value: 0.7830608814210012.\n",
      "c:\\Users\\Мария\\AppData\\Local\\Programs\\Python\\Python39\\lib\\site-packages\\sklearn\\linear_model\\_logistic.py:458: ConvergenceWarning:\n",
      "\n",
      "lbfgs failed to converge (status=1):\n",
      "STOP: TOTAL NO. of ITERATIONS REACHED LIMIT.\n",
      "\n",
      "Increase the number of iterations (max_iter) or scale the data as shown in:\n",
      "    https://scikit-learn.org/stable/modules/preprocessing.html\n",
      "Please also refer to the documentation for alternative solver options:\n",
      "    https://scikit-learn.org/stable/modules/linear_model.html#logistic-regression\n",
      "\n",
      "[I 2023-06-06 15:57:44,435] Trial 16 finished with value: 0.7798449369920625 and parameters: {'penalty': 'l2', 'solver': 'lbfgs', 'C': 0.27875464232174274}. Best is trial 12 with value: 0.7830608814210012.\n",
      "c:\\Users\\Мария\\AppData\\Local\\Programs\\Python\\Python39\\lib\\site-packages\\sklearn\\linear_model\\_sag.py:350: ConvergenceWarning:\n",
      "\n",
      "The max_iter was reached which means the coef_ did not converge\n",
      "\n",
      "[I 2023-06-06 15:58:10,463] Trial 17 finished with value: 0.7818124129246206 and parameters: {'penalty': 'l2', 'solver': 'sag', 'C': 0.11038210018570654}. Best is trial 12 with value: 0.7830608814210012.\n",
      "c:\\Users\\Мария\\AppData\\Local\\Programs\\Python\\Python39\\lib\\site-packages\\sklearn\\linear_model\\_logistic.py:1173: FutureWarning:\n",
      "\n",
      "`penalty='none'`has been deprecated in 1.2 and will be removed in 1.4. To keep the past behaviour, set `penalty=None`.\n",
      "\n",
      "c:\\Users\\Мария\\AppData\\Local\\Programs\\Python\\Python39\\lib\\site-packages\\sklearn\\linear_model\\_logistic.py:1181: UserWarning:\n",
      "\n",
      "Setting penalty=None will ignore the C and l1_ratio parameters\n",
      "\n",
      "c:\\Users\\Мария\\AppData\\Local\\Programs\\Python\\Python39\\lib\\site-packages\\sklearn\\linear_model\\_logistic.py:458: ConvergenceWarning:\n",
      "\n",
      "lbfgs failed to converge (status=1):\n",
      "STOP: TOTAL NO. of ITERATIONS REACHED LIMIT.\n",
      "\n",
      "Increase the number of iterations (max_iter) or scale the data as shown in:\n",
      "    https://scikit-learn.org/stable/modules/preprocessing.html\n",
      "Please also refer to the documentation for alternative solver options:\n",
      "    https://scikit-learn.org/stable/modules/linear_model.html#logistic-regression\n",
      "\n",
      "[I 2023-06-06 15:58:15,173] Trial 18 finished with value: 0.7475536741581407 and parameters: {'penalty': 'none', 'solver': 'lbfgs', 'C': 0.24540005002688892}. Best is trial 12 with value: 0.7830608814210012.\n",
      "c:\\Users\\Мария\\AppData\\Local\\Programs\\Python\\Python39\\lib\\site-packages\\sklearn\\linear_model\\_sag.py:350: ConvergenceWarning:\n",
      "\n",
      "The max_iter was reached which means the coef_ did not converge\n",
      "\n",
      "[I 2023-06-06 15:58:40,964] Trial 19 finished with value: 0.7817142430907614 and parameters: {'penalty': 'l2', 'solver': 'sag', 'C': 0.1264694253402735}. Best is trial 12 with value: 0.7830608814210012.\n",
      "c:\\Users\\Мария\\AppData\\Local\\Programs\\Python\\Python39\\lib\\site-packages\\sklearn\\linear_model\\_sag.py:350: ConvergenceWarning:\n",
      "\n",
      "The max_iter was reached which means the coef_ did not converge\n",
      "\n",
      "[I 2023-06-06 15:59:08,280] Trial 20 finished with value: 0.778269805531248 and parameters: {'penalty': 'l2', 'solver': 'sag', 'C': 0.354491033000252}. Best is trial 12 with value: 0.7830608814210012.\n",
      "c:\\Users\\Мария\\AppData\\Local\\Programs\\Python\\Python39\\lib\\site-packages\\sklearn\\linear_model\\_sag.py:350: ConvergenceWarning:\n",
      "\n",
      "The max_iter was reached which means the coef_ did not converge\n",
      "\n",
      "[I 2023-06-06 15:59:34,516] Trial 21 finished with value: 0.7815763034344555 and parameters: {'penalty': 'l2', 'solver': 'sag', 'C': 0.11622992668536479}. Best is trial 12 with value: 0.7830608814210012.\n",
      "c:\\Users\\Мария\\AppData\\Local\\Programs\\Python\\Python39\\lib\\site-packages\\sklearn\\linear_model\\_sag.py:350: ConvergenceWarning:\n",
      "\n",
      "The max_iter was reached which means the coef_ did not converge\n",
      "\n",
      "[I 2023-06-06 16:00:01,654] Trial 22 finished with value: 0.781498541116904 and parameters: {'penalty': 'l2', 'solver': 'sag', 'C': 0.18213852875654218}. Best is trial 12 with value: 0.7830608814210012.\n",
      "c:\\Users\\Мария\\AppData\\Local\\Programs\\Python\\Python39\\lib\\site-packages\\sklearn\\linear_model\\_sag.py:350: ConvergenceWarning:\n",
      "\n",
      "The max_iter was reached which means the coef_ did not converge\n",
      "\n",
      "[I 2023-06-06 16:00:28,399] Trial 23 finished with value: 0.7823638217963607 and parameters: {'penalty': 'l2', 'solver': 'sag', 'C': 0.09578476970572451}. Best is trial 12 with value: 0.7830608814210012.\n",
      "c:\\Users\\Мария\\AppData\\Local\\Programs\\Python\\Python39\\lib\\site-packages\\sklearn\\linear_model\\_sag.py:350: ConvergenceWarning:\n",
      "\n",
      "The max_iter was reached which means the coef_ did not converge\n",
      "\n",
      "[I 2023-06-06 16:00:55,147] Trial 24 finished with value: 0.780159670120105 and parameters: {'penalty': 'l2', 'solver': 'sag', 'C': 0.20688160044843235}. Best is trial 12 with value: 0.7830608814210012.\n",
      "c:\\Users\\Мария\\AppData\\Local\\Programs\\Python\\Python39\\lib\\site-packages\\sklearn\\linear_model\\_sag.py:350: ConvergenceWarning:\n",
      "\n",
      "The max_iter was reached which means the coef_ did not converge\n",
      "\n",
      "[I 2023-06-06 16:01:22,545] Trial 25 finished with value: 0.7834246469192182 and parameters: {'penalty': 'l2', 'solver': 'sag', 'C': 0.08316785321088846}. Best is trial 25 with value: 0.7834246469192182.\n",
      "c:\\Users\\Мария\\AppData\\Local\\Programs\\Python\\Python39\\lib\\site-packages\\sklearn\\linear_model\\_logistic.py:1173: FutureWarning:\n",
      "\n",
      "`penalty='none'`has been deprecated in 1.2 and will be removed in 1.4. To keep the past behaviour, set `penalty=None`.\n",
      "\n",
      "c:\\Users\\Мария\\AppData\\Local\\Programs\\Python\\Python39\\lib\\site-packages\\sklearn\\linear_model\\_logistic.py:1181: UserWarning:\n",
      "\n",
      "Setting penalty=None will ignore the C and l1_ratio parameters\n",
      "\n",
      "c:\\Users\\Мария\\AppData\\Local\\Programs\\Python\\Python39\\lib\\site-packages\\sklearn\\linear_model\\_logistic.py:458: ConvergenceWarning:\n",
      "\n",
      "lbfgs failed to converge (status=1):\n",
      "STOP: TOTAL NO. of ITERATIONS REACHED LIMIT.\n",
      "\n",
      "Increase the number of iterations (max_iter) or scale the data as shown in:\n",
      "    https://scikit-learn.org/stable/modules/preprocessing.html\n",
      "Please also refer to the documentation for alternative solver options:\n",
      "    https://scikit-learn.org/stable/modules/linear_model.html#logistic-regression\n",
      "\n",
      "[I 2023-06-06 16:01:27,456] Trial 26 finished with value: 0.7475536741581407 and parameters: {'penalty': 'none', 'solver': 'lbfgs', 'C': 0.047356955566943804}. Best is trial 25 with value: 0.7834246469192182.\n",
      "c:\\Users\\Мария\\AppData\\Local\\Programs\\Python\\Python39\\lib\\site-packages\\sklearn\\linear_model\\_sag.py:350: ConvergenceWarning:\n",
      "\n",
      "The max_iter was reached which means the coef_ did not converge\n",
      "\n",
      "[I 2023-06-06 16:01:55,130] Trial 27 finished with value: 0.7821241269004566 and parameters: {'penalty': 'l2', 'solver': 'sag', 'C': 0.07333016289487941}. Best is trial 25 with value: 0.7834246469192182.\n",
      "c:\\Users\\Мария\\AppData\\Local\\Programs\\Python\\Python39\\lib\\site-packages\\sklearn\\linear_model\\_logistic.py:458: ConvergenceWarning:\n",
      "\n",
      "lbfgs failed to converge (status=1):\n",
      "STOP: TOTAL NO. of ITERATIONS REACHED LIMIT.\n",
      "\n",
      "Increase the number of iterations (max_iter) or scale the data as shown in:\n",
      "    https://scikit-learn.org/stable/modules/preprocessing.html\n",
      "Please also refer to the documentation for alternative solver options:\n",
      "    https://scikit-learn.org/stable/modules/linear_model.html#logistic-regression\n",
      "\n",
      "[I 2023-06-06 16:01:59,601] Trial 28 finished with value: 0.778615149862151 and parameters: {'penalty': 'l2', 'solver': 'lbfgs', 'C': 0.242672324429755}. Best is trial 25 with value: 0.7834246469192182.\n",
      "c:\\Users\\Мария\\AppData\\Local\\Programs\\Python\\Python39\\lib\\site-packages\\sklearn\\linear_model\\_logistic.py:1173: FutureWarning:\n",
      "\n",
      "`penalty='none'`has been deprecated in 1.2 and will be removed in 1.4. To keep the past behaviour, set `penalty=None`.\n",
      "\n",
      "c:\\Users\\Мария\\AppData\\Local\\Programs\\Python\\Python39\\lib\\site-packages\\sklearn\\linear_model\\_logistic.py:1181: UserWarning:\n",
      "\n",
      "Setting penalty=None will ignore the C and l1_ratio parameters\n",
      "\n",
      "c:\\Users\\Мария\\AppData\\Local\\Programs\\Python\\Python39\\lib\\site-packages\\sklearn\\linear_model\\_logistic.py:458: ConvergenceWarning:\n",
      "\n",
      "lbfgs failed to converge (status=1):\n",
      "STOP: TOTAL NO. of ITERATIONS REACHED LIMIT.\n",
      "\n",
      "Increase the number of iterations (max_iter) or scale the data as shown in:\n",
      "    https://scikit-learn.org/stable/modules/preprocessing.html\n",
      "Please also refer to the documentation for alternative solver options:\n",
      "    https://scikit-learn.org/stable/modules/linear_model.html#logistic-regression\n",
      "\n",
      "[I 2023-06-06 16:02:04,321] Trial 29 finished with value: 0.7475536741581407 and parameters: {'penalty': 'none', 'solver': 'lbfgs', 'C': 0.39854585668316767}. Best is trial 25 with value: 0.7834246469192182.\n",
      "c:\\Users\\Мария\\AppData\\Local\\Programs\\Python\\Python39\\lib\\site-packages\\sklearn\\linear_model\\_sag.py:350: ConvergenceWarning:\n",
      "\n",
      "The max_iter was reached which means the coef_ did not converge\n",
      "\n",
      "[I 2023-06-06 16:02:29,768] Trial 30 finished with value: 0.7827003415170244 and parameters: {'penalty': 'l2', 'solver': 'sag', 'C': 0.07922961043375129}. Best is trial 25 with value: 0.7834246469192182.\n",
      "c:\\Users\\Мария\\AppData\\Local\\Programs\\Python\\Python39\\lib\\site-packages\\sklearn\\linear_model\\_sag.py:350: ConvergenceWarning:\n",
      "\n",
      "The max_iter was reached which means the coef_ did not converge\n",
      "\n",
      "[I 2023-06-06 16:02:57,836] Trial 31 finished with value: 0.7824960759428528 and parameters: {'penalty': 'l2', 'solver': 'sag', 'C': 0.014456363847841158}. Best is trial 25 with value: 0.7834246469192182.\n",
      "c:\\Users\\Мария\\AppData\\Local\\Programs\\Python\\Python39\\lib\\site-packages\\sklearn\\linear_model\\_sag.py:350: ConvergenceWarning:\n",
      "\n",
      "The max_iter was reached which means the coef_ did not converge\n",
      "\n",
      "[I 2023-06-06 16:03:24,168] Trial 32 finished with value: 0.78330255625697 and parameters: {'penalty': 'l2', 'solver': 'sag', 'C': 0.0780398634482063}. Best is trial 25 with value: 0.7834246469192182.\n",
      "c:\\Users\\Мария\\AppData\\Local\\Programs\\Python\\Python39\\lib\\site-packages\\sklearn\\linear_model\\_sag.py:350: ConvergenceWarning:\n",
      "\n",
      "The max_iter was reached which means the coef_ did not converge\n",
      "\n",
      "[I 2023-06-06 16:03:51,316] Trial 33 finished with value: 0.7826497536620811 and parameters: {'penalty': 'l2', 'solver': 'sag', 'C': 0.15277459662138124}. Best is trial 25 with value: 0.7834246469192182.\n",
      "c:\\Users\\Мария\\AppData\\Local\\Programs\\Python\\Python39\\lib\\site-packages\\sklearn\\linear_model\\_sag.py:350: ConvergenceWarning:\n",
      "\n",
      "The max_iter was reached which means the coef_ did not converge\n",
      "\n",
      "[I 2023-06-06 16:04:18,301] Trial 34 finished with value: 0.7795628340250667 and parameters: {'penalty': 'l2', 'solver': 'sag', 'C': 0.2142454852754882}. Best is trial 25 with value: 0.7834246469192182.\n",
      "c:\\Users\\Мария\\AppData\\Local\\Programs\\Python\\Python39\\lib\\site-packages\\sklearn\\linear_model\\_sag.py:350: ConvergenceWarning:\n",
      "\n",
      "The max_iter was reached which means the coef_ did not converge\n",
      "\n",
      "[I 2023-06-06 16:04:44,552] Trial 35 finished with value: 0.7829434428235562 and parameters: {'penalty': 'l2', 'solver': 'sag', 'C': 0.08508528087455211}. Best is trial 25 with value: 0.7834246469192182.\n",
      "c:\\Users\\Мария\\AppData\\Local\\Programs\\Python\\Python39\\lib\\site-packages\\sklearn\\linear_model\\_sag.py:350: ConvergenceWarning:\n",
      "\n",
      "The max_iter was reached which means the coef_ did not converge\n",
      "\n",
      "[I 2023-06-06 16:05:11,202] Trial 36 finished with value: 0.7815124144699561 and parameters: {'penalty': 'l2', 'solver': 'sag', 'C': 0.06301073378407787}. Best is trial 25 with value: 0.7834246469192182.\n",
      "c:\\Users\\Мария\\AppData\\Local\\Programs\\Python\\Python39\\lib\\site-packages\\sklearn\\linear_model\\_sag.py:350: ConvergenceWarning:\n",
      "\n",
      "The max_iter was reached which means the coef_ did not converge\n",
      "\n",
      "[I 2023-06-06 16:05:37,324] Trial 37 finished with value: 0.7787519644429033 and parameters: {'penalty': 'l2', 'solver': 'sag', 'C': 0.27158993765697437}. Best is trial 25 with value: 0.7834246469192182.\n",
      "c:\\Users\\Мария\\AppData\\Local\\Programs\\Python\\Python39\\lib\\site-packages\\sklearn\\linear_model\\_logistic.py:1173: FutureWarning:\n",
      "\n",
      "`penalty='none'`has been deprecated in 1.2 and will be removed in 1.4. To keep the past behaviour, set `penalty=None`.\n",
      "\n",
      "c:\\Users\\Мария\\AppData\\Local\\Programs\\Python\\Python39\\lib\\site-packages\\sklearn\\linear_model\\_logistic.py:1181: UserWarning:\n",
      "\n",
      "Setting penalty=None will ignore the C and l1_ratio parameters\n",
      "\n",
      "c:\\Users\\Мария\\AppData\\Local\\Programs\\Python\\Python39\\lib\\site-packages\\sklearn\\linear_model\\_sag.py:350: ConvergenceWarning:\n",
      "\n",
      "The max_iter was reached which means the coef_ did not converge\n",
      "\n",
      "[I 2023-06-06 16:06:01,075] Trial 38 finished with value: 0.7665205856775353 and parameters: {'penalty': 'none', 'solver': 'sag', 'C': 0.17762225475559945}. Best is trial 25 with value: 0.7834246469192182.\n",
      "c:\\Users\\Мария\\AppData\\Local\\Programs\\Python\\Python39\\lib\\site-packages\\sklearn\\linear_model\\_sag.py:350: ConvergenceWarning:\n",
      "\n",
      "The max_iter was reached which means the coef_ did not converge\n",
      "\n",
      "[I 2023-06-06 16:06:24,645] Trial 39 finished with value: 0.7820371026346471 and parameters: {'penalty': 'l2', 'solver': 'sag', 'C': 0.1494362388550208}. Best is trial 25 with value: 0.7834246469192182.\n",
      "c:\\Users\\Мария\\AppData\\Local\\Programs\\Python\\Python39\\lib\\site-packages\\sklearn\\linear_model\\_sag.py:350: ConvergenceWarning:\n",
      "\n",
      "The max_iter was reached which means the coef_ did not converge\n",
      "\n",
      "[I 2023-06-06 16:06:47,544] Trial 40 finished with value: 0.7823638217963607 and parameters: {'penalty': 'l2', 'solver': 'sag', 'C': 0.09573198813721537}. Best is trial 25 with value: 0.7834246469192182.\n",
      "c:\\Users\\Мария\\AppData\\Local\\Programs\\Python\\Python39\\lib\\site-packages\\sklearn\\linear_model\\_logistic.py:458: ConvergenceWarning:\n",
      "\n",
      "lbfgs failed to converge (status=1):\n",
      "STOP: TOTAL NO. of ITERATIONS REACHED LIMIT.\n",
      "\n",
      "Increase the number of iterations (max_iter) or scale the data as shown in:\n",
      "    https://scikit-learn.org/stable/modules/preprocessing.html\n",
      "Please also refer to the documentation for alternative solver options:\n",
      "    https://scikit-learn.org/stable/modules/linear_model.html#logistic-regression\n",
      "\n",
      "[I 2023-06-06 16:06:51,943] Trial 41 finished with value: 0.7825956254635051 and parameters: {'penalty': 'l2', 'solver': 'lbfgs', 'C': 0.08723912796478557}. Best is trial 25 with value: 0.7834246469192182.\n",
      "c:\\Users\\Мария\\AppData\\Local\\Programs\\Python\\Python39\\lib\\site-packages\\sklearn\\linear_model\\_sag.py:350: ConvergenceWarning:\n",
      "\n",
      "The max_iter was reached which means the coef_ did not converge\n",
      "\n",
      "[I 2023-06-06 16:07:15,386] Trial 42 finished with value: 0.7804202561827147 and parameters: {'penalty': 'l2', 'solver': 'sag', 'C': 0.22513906108781767}. Best is trial 25 with value: 0.7834246469192182.\n",
      "c:\\Users\\Мария\\AppData\\Local\\Programs\\Python\\Python39\\lib\\site-packages\\sklearn\\linear_model\\_sag.py:350: ConvergenceWarning:\n",
      "\n",
      "The max_iter was reached which means the coef_ did not converge\n",
      "\n",
      "[I 2023-06-06 16:07:38,644] Trial 43 finished with value: 0.7821907041408943 and parameters: {'penalty': 'l2', 'solver': 'sag', 'C': 0.14296128099235283}. Best is trial 25 with value: 0.7834246469192182.\n",
      "[I 2023-06-06 16:07:42,296] Trial 44 finished with value: 0.783709354274131 and parameters: {'penalty': 'l2', 'solver': 'lbfgs', 'C': 0.02056964865712836}. Best is trial 44 with value: 0.783709354274131.\n",
      "c:\\Users\\Мария\\AppData\\Local\\Programs\\Python\\Python39\\lib\\site-packages\\sklearn\\linear_model\\_logistic.py:458: ConvergenceWarning:\n",
      "\n",
      "lbfgs failed to converge (status=1):\n",
      "STOP: TOTAL NO. of ITERATIONS REACHED LIMIT.\n",
      "\n",
      "Increase the number of iterations (max_iter) or scale the data as shown in:\n",
      "    https://scikit-learn.org/stable/modules/preprocessing.html\n",
      "Please also refer to the documentation for alternative solver options:\n",
      "    https://scikit-learn.org/stable/modules/linear_model.html#logistic-regression\n",
      "\n",
      "[I 2023-06-06 16:07:46,602] Trial 45 finished with value: 0.7825011073890153 and parameters: {'penalty': 'l2', 'solver': 'lbfgs', 'C': 0.05310970168330911}. Best is trial 44 with value: 0.783709354274131.\n",
      "c:\\Users\\Мария\\AppData\\Local\\Programs\\Python\\Python39\\lib\\site-packages\\sklearn\\linear_model\\_sag.py:350: ConvergenceWarning:\n",
      "\n",
      "The max_iter was reached which means the coef_ did not converge\n",
      "\n",
      "[I 2023-06-06 16:08:10,000] Trial 46 finished with value: 0.7836078111471034 and parameters: {'penalty': 'l2', 'solver': 'sag', 'C': 0.026313917735247203}. Best is trial 44 with value: 0.783709354274131.\n",
      "c:\\Users\\Мария\\AppData\\Local\\Programs\\Python\\Python39\\lib\\site-packages\\sklearn\\linear_model\\_logistic.py:1173: FutureWarning:\n",
      "\n",
      "`penalty='none'`has been deprecated in 1.2 and will be removed in 1.4. To keep the past behaviour, set `penalty=None`.\n",
      "\n",
      "c:\\Users\\Мария\\AppData\\Local\\Programs\\Python\\Python39\\lib\\site-packages\\sklearn\\linear_model\\_logistic.py:1181: UserWarning:\n",
      "\n",
      "Setting penalty=None will ignore the C and l1_ratio parameters\n",
      "\n",
      "c:\\Users\\Мария\\AppData\\Local\\Programs\\Python\\Python39\\lib\\site-packages\\sklearn\\linear_model\\_sag.py:350: ConvergenceWarning:\n",
      "\n",
      "The max_iter was reached which means the coef_ did not converge\n",
      "\n",
      "[I 2023-06-06 16:08:33,285] Trial 47 finished with value: 0.7665205856775353 and parameters: {'penalty': 'none', 'solver': 'sag', 'C': 0.010601222234155216}. Best is trial 44 with value: 0.783709354274131.\n",
      "c:\\Users\\Мария\\AppData\\Local\\Programs\\Python\\Python39\\lib\\site-packages\\sklearn\\linear_model\\_logistic.py:458: ConvergenceWarning:\n",
      "\n",
      "lbfgs failed to converge (status=1):\n",
      "STOP: TOTAL NO. of ITERATIONS REACHED LIMIT.\n",
      "\n",
      "Increase the number of iterations (max_iter) or scale the data as shown in:\n",
      "    https://scikit-learn.org/stable/modules/preprocessing.html\n",
      "Please also refer to the documentation for alternative solver options:\n",
      "    https://scikit-learn.org/stable/modules/linear_model.html#logistic-regression\n",
      "\n",
      "[I 2023-06-06 16:08:37,727] Trial 48 finished with value: 0.7827617179758305 and parameters: {'penalty': 'l2', 'solver': 'lbfgs', 'C': 0.04355256342203305}. Best is trial 44 with value: 0.783709354274131.\n",
      "c:\\Users\\Мария\\AppData\\Local\\Programs\\Python\\Python39\\lib\\site-packages\\sklearn\\linear_model\\_sag.py:350: ConvergenceWarning:\n",
      "\n",
      "The max_iter was reached which means the coef_ did not converge\n",
      "\n",
      "[I 2023-06-06 16:09:02,014] Trial 49 finished with value: 0.7821490549155984 and parameters: {'penalty': 'l2', 'solver': 'sag', 'C': 0.16152640019629283}. Best is trial 44 with value: 0.783709354274131.\n"
     ]
    }
   ],
   "source": [
    "%time\n",
    "# cоздаем объект исследования\n",
    "# можем напрямую указать, что нам необходимо максимизировать метрику direction=\"maximize\"\n",
    "study2 = optuna.create_study(study_name=\"LogisticRegression\", direction=\"maximize\")\n",
    "# ищем лучшую комбинацию гиперпараметров n_trials раз\n",
    "study2.optimize(optuna_lr, n_trials=50)"
   ]
  },
  {
   "cell_type": "code",
   "execution_count": 49,
   "metadata": {},
   "outputs": [
    {
     "name": "stdout",
     "output_type": "stream",
     "text": [
      "accuracy на тестовом наборе: 0.77\n",
      "f1_score на тестовом наборе: 0.80\n"
     ]
    }
   ],
   "source": [
    "# рассчитаем точность для тестовой выборки\n",
    "model = linear_model.LogisticRegression(**study2.best_params,random_state=random_state, )\n",
    "model.fit(X_train, y_train)\n",
    "y_train_pred = model.predict(X_train)\n",
    "print(\"accuracy на тестовом наборе: {:.2f}\".format(model.score(X_test, y_test)))\n",
    "y_test_pred = model.predict(X_test)\n",
    "print('f1_score на тестовом наборе: {:.2f}'.format(metrics.f1_score(y_test, y_test_pred)))"
   ]
  }
 ],
 "metadata": {
  "kernelspec": {
   "display_name": "Python 3",
   "language": "python",
   "name": "python3"
  },
  "language_info": {
   "codemirror_mode": {
    "name": "ipython",
    "version": 3
   },
   "file_extension": ".py",
   "mimetype": "text/x-python",
   "name": "python",
   "nbconvert_exporter": "python",
   "pygments_lexer": "ipython3",
   "version": "3.9.10"
  },
  "orig_nbformat": 4
 },
 "nbformat": 4,
 "nbformat_minor": 2
}
